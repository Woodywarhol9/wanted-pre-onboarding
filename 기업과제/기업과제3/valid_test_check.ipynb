{
  "nbformat": 4,
  "nbformat_minor": 0,
  "metadata": {
    "colab": {
      "provenance": [],
      "machine_shape": "hm",
      "toc_visible": true
    },
    "kernelspec": {
      "name": "python3",
      "display_name": "Python 3"
    },
    "language_info": {
      "name": "python"
    },
    "accelerator": "GPU",
    "gpuClass": "standard"
  },
  "cells": [
    {
      "cell_type": "markdown",
      "source": [
        "# 1.검증 데이터의 적절성 확인\n",
        "  - 검증 데이터 품질 개선에 따라, 테스트 성능이 향상 될 수 있는 지 확인이 목적\n",
        "  - Hold Out Data를 활용한 검증과 Augmented Data를 활용한 검증에 대해서 각각 확인"
      ],
      "metadata": {
        "id": "H0GV7WlV1C_4"
      }
    },
    {
      "cell_type": "markdown",
      "source": [
        "## A. Hold - Out Data를 활용한 검증 확인"
      ],
      "metadata": {
        "id": "IBiMqI5Iv_2w"
      }
    },
    {
      "cell_type": "markdown",
      "source": [
        "![image](https://user-images.githubusercontent.com/86637320/227261350-6ab2fd68-2ebf-4b68-aa1e-402900340f20.png)\n",
        "- 노란색 부분 : 검증 데이터의 Label 분포"
      ],
      "metadata": {
        "id": "lAiakby4Lg1T"
      }
    },
    {
      "cell_type": "markdown",
      "source": [
        "- `검증, 테스트 데이터에 대한 모델 Loss 차이가 없다`는 귀무 가설 하, T 검정 실시\n",
        "  - 검증, 테스트 데이터에 대한 평균 Loss 비교를 통해, 검증 데이터 개선 시 예측 성능 향상을 기대할 수 있는 지 확인하기 위함\n",
        "  - T 검정 시, `표본 평균의 정규성 보장`을 위해 각 Epoch 마다 얻을 수 있는 모델의 Loss를 표본 크기 `30`으로 추출 후 확인"
      ],
      "metadata": {
        "id": "jgLJVn4Nlxa6"
      }
    },
    {
      "cell_type": "markdown",
      "source": [
        "### 1) N = 30으로 Loss를 추출하기 위해, 모델 재 학습\n",
        "- 모델의 하이퍼 파라미터\n",
        "  - `eps` : 1e-8\n",
        "  - `grad_norm` 1\n",
        "  - `lr` 3e-5\n",
        "  - `max_length` 128\n",
        "  - `train_batch_size` 32\n",
        "  - `linear_warump_scheduler - warm_up_ratio` 0\n",
        "  - `weight decay` 0.01"
      ],
      "metadata": {
        "id": "hCkXha_3Uenx"
      }
    },
    {
      "cell_type": "code",
      "execution_count": null,
      "metadata": {
        "colab": {
          "base_uri": "https://localhost:8080/"
        },
        "id": "85jpthsRXnTu",
        "outputId": "519368a4-3c40-49ef-e29c-3ad2f94fbc34"
      },
      "outputs": [
        {
          "output_type": "stream",
          "name": "stdout",
          "text": [
            "Cloning into 'KoELECTRA'...\n",
            "remote: Enumerating objects: 684, done.\u001b[K\n",
            "remote: Counting objects: 100% (169/169), done.\u001b[K\n",
            "remote: Compressing objects: 100% (56/56), done.\u001b[K\n",
            "remote: Total 684 (delta 137), reused 118 (delta 113), pack-reused 515\u001b[K\n",
            "Receiving objects: 100% (684/684), 55.97 MiB | 23.53 MiB/s, done.\n",
            "Resolving deltas: 100% (443/443), done.\n"
          ]
        }
      ],
      "source": [
        "!git clone https://github.com/woodywarhol9/KoELECTRA.git"
      ]
    },
    {
      "cell_type": "code",
      "source": [
        "cd \"/content/KoELECTRA/finetune\""
      ],
      "metadata": {
        "colab": {
          "base_uri": "https://localhost:8080/"
        },
        "id": "IO-PnWathhUr",
        "outputId": "33cc18b0-fbfd-4082-eae0-db163ed5cf29"
      },
      "execution_count": null,
      "outputs": [
        {
          "output_type": "stream",
          "name": "stdout",
          "text": [
            "/content/KoELECTRA/finetune\n"
          ]
        }
      ]
    },
    {
      "cell_type": "markdown",
      "source": [
        "- 패키지 설치"
      ],
      "metadata": {
        "id": "9_3jsGcpj2UO"
      }
    },
    {
      "cell_type": "code",
      "source": [
        "!pip install -r requirements.txt"
      ],
      "metadata": {
        "colab": {
          "base_uri": "https://localhost:8080/"
        },
        "id": "_tlcLi5-j_CO",
        "outputId": "516e992e-1055-4058-ac7f-b1c63fbb10ec"
      },
      "execution_count": null,
      "outputs": [
        {
          "output_type": "stream",
          "name": "stdout",
          "text": [
            "Looking in indexes: https://pypi.org/simple, https://us-python.pkg.dev/colab-wheels/public/simple/\n",
            "Collecting torch==1.6.0\n",
            "  Downloading torch-1.6.0-cp38-cp38-manylinux1_x86_64.whl (748.8 MB)\n",
            "\u001b[2K     \u001b[90m━━━━━━━━━━━━━━━━━━━━━━━━━━━━━━━━━━━━━━━\u001b[0m \u001b[32m748.8/748.8 MB\u001b[0m \u001b[31m2.0 MB/s\u001b[0m eta \u001b[36m0:00:00\u001b[0m\n",
            "\u001b[?25hCollecting transformers==3.3.1\n",
            "  Downloading transformers-3.3.1-py3-none-any.whl (1.1 MB)\n",
            "\u001b[2K     \u001b[90m━━━━━━━━━━━━━━━━━━━━━━━━━━━━━━━━━━━━━━━━\u001b[0m \u001b[32m1.1/1.1 MB\u001b[0m \u001b[31m66.8 MB/s\u001b[0m eta \u001b[36m0:00:00\u001b[0m\n",
            "\u001b[?25hCollecting seqeval\n",
            "  Downloading seqeval-1.2.2.tar.gz (43 kB)\n",
            "\u001b[2K     \u001b[90m━━━━━━━━━━━━━━━━━━━━━━━━━━━━━━━━━━━━━━━━\u001b[0m \u001b[32m43.6/43.6 KB\u001b[0m \u001b[31m5.4 MB/s\u001b[0m eta \u001b[36m0:00:00\u001b[0m\n",
            "\u001b[?25h  Preparing metadata (setup.py) ... \u001b[?25l\u001b[?25hdone\n",
            "Requirement already satisfied: fastprogress in /usr/local/lib/python3.8/dist-packages (from -r requirements.txt (line 4)) (1.0.3)\n",
            "Collecting attrdict\n",
            "  Downloading attrdict-2.0.1-py2.py3-none-any.whl (9.9 kB)\n",
            "Requirement already satisfied: numpy in /usr/local/lib/python3.8/dist-packages (from torch==1.6.0->-r requirements.txt (line 1)) (1.22.4)\n",
            "Requirement already satisfied: future in /usr/local/lib/python3.8/dist-packages (from torch==1.6.0->-r requirements.txt (line 1)) (0.16.0)\n",
            "Requirement already satisfied: requests in /usr/local/lib/python3.8/dist-packages (from transformers==3.3.1->-r requirements.txt (line 2)) (2.25.1)\n",
            "Collecting tokenizers==0.8.1.rc2\n",
            "  Downloading tokenizers-0.8.1rc2-cp38-cp38-manylinux1_x86_64.whl (3.0 MB)\n",
            "\u001b[2K     \u001b[90m━━━━━━━━━━━━━━━━━━━━━━━━━━━━━━━━━━━━━━━━\u001b[0m \u001b[32m3.0/3.0 MB\u001b[0m \u001b[31m66.7 MB/s\u001b[0m eta \u001b[36m0:00:00\u001b[0m\n",
            "\u001b[?25hRequirement already satisfied: tqdm>=4.27 in /usr/local/lib/python3.8/dist-packages (from transformers==3.3.1->-r requirements.txt (line 2)) (4.64.1)\n",
            "Collecting sacremoses\n",
            "  Downloading sacremoses-0.0.53.tar.gz (880 kB)\n",
            "\u001b[2K     \u001b[90m━━━━━━━━━━━━━━━━━━━━━━━━━━━━━━━━━━━━━━\u001b[0m \u001b[32m880.6/880.6 KB\u001b[0m \u001b[31m57.7 MB/s\u001b[0m eta \u001b[36m0:00:00\u001b[0m\n",
            "\u001b[?25h  Preparing metadata (setup.py) ... \u001b[?25l\u001b[?25hdone\n",
            "Requirement already satisfied: regex!=2019.12.17 in /usr/local/lib/python3.8/dist-packages (from transformers==3.3.1->-r requirements.txt (line 2)) (2022.6.2)\n",
            "Collecting sentencepiece!=0.1.92\n",
            "  Downloading sentencepiece-0.1.97-cp38-cp38-manylinux_2_17_x86_64.manylinux2014_x86_64.whl (1.3 MB)\n",
            "\u001b[2K     \u001b[90m━━━━━━━━━━━━━━━━━━━━━━━━━━━━━━━━━━━━━━━━\u001b[0m \u001b[32m1.3/1.3 MB\u001b[0m \u001b[31m79.1 MB/s\u001b[0m eta \u001b[36m0:00:00\u001b[0m\n",
            "\u001b[?25hRequirement already satisfied: packaging in /usr/local/lib/python3.8/dist-packages (from transformers==3.3.1->-r requirements.txt (line 2)) (23.0)\n",
            "Requirement already satisfied: filelock in /usr/local/lib/python3.8/dist-packages (from transformers==3.3.1->-r requirements.txt (line 2)) (3.9.0)\n",
            "Requirement already satisfied: scikit-learn>=0.21.3 in /usr/local/lib/python3.8/dist-packages (from seqeval->-r requirements.txt (line 3)) (1.0.2)\n",
            "Requirement already satisfied: six in /usr/local/lib/python3.8/dist-packages (from attrdict->-r requirements.txt (line 5)) (1.15.0)\n",
            "Requirement already satisfied: joblib>=0.11 in /usr/local/lib/python3.8/dist-packages (from scikit-learn>=0.21.3->seqeval->-r requirements.txt (line 3)) (1.2.0)\n",
            "Requirement already satisfied: scipy>=1.1.0 in /usr/local/lib/python3.8/dist-packages (from scikit-learn>=0.21.3->seqeval->-r requirements.txt (line 3)) (1.7.3)\n",
            "Requirement already satisfied: threadpoolctl>=2.0.0 in /usr/local/lib/python3.8/dist-packages (from scikit-learn>=0.21.3->seqeval->-r requirements.txt (line 3)) (3.1.0)\n",
            "Requirement already satisfied: urllib3<1.27,>=1.21.1 in /usr/local/lib/python3.8/dist-packages (from requests->transformers==3.3.1->-r requirements.txt (line 2)) (1.26.14)\n",
            "Requirement already satisfied: certifi>=2017.4.17 in /usr/local/lib/python3.8/dist-packages (from requests->transformers==3.3.1->-r requirements.txt (line 2)) (2022.12.7)\n",
            "Requirement already satisfied: idna<3,>=2.5 in /usr/local/lib/python3.8/dist-packages (from requests->transformers==3.3.1->-r requirements.txt (line 2)) (2.10)\n",
            "Requirement already satisfied: chardet<5,>=3.0.2 in /usr/local/lib/python3.8/dist-packages (from requests->transformers==3.3.1->-r requirements.txt (line 2)) (4.0.0)\n",
            "Requirement already satisfied: click in /usr/local/lib/python3.8/dist-packages (from sacremoses->transformers==3.3.1->-r requirements.txt (line 2)) (8.1.3)\n",
            "Building wheels for collected packages: seqeval, sacremoses\n",
            "  Building wheel for seqeval (setup.py) ... \u001b[?25l\u001b[?25hdone\n",
            "  Created wheel for seqeval: filename=seqeval-1.2.2-py3-none-any.whl size=16179 sha256=73ae56c4e842f91f1a50d7a8f6fa186267b72c8a72f1b40690f9d5dd50a7ade1\n",
            "  Stored in directory: /root/.cache/pip/wheels/ad/5c/ba/05fa33fa5855777b7d686e843ec07452f22a66a138e290e732\n",
            "  Building wheel for sacremoses (setup.py) ... \u001b[?25l\u001b[?25hdone\n",
            "  Created wheel for sacremoses: filename=sacremoses-0.0.53-py3-none-any.whl size=895260 sha256=55e95359ac15ec93a5d064e8861398951c06e6690d8bcab3fdbbab2965d24865\n",
            "  Stored in directory: /root/.cache/pip/wheels/82/ab/9b/c15899bf659ba74f623ac776e861cf2eb8608c1825ddec66a4\n",
            "Successfully built seqeval sacremoses\n",
            "Installing collected packages: tokenizers, sentencepiece, torch, sacremoses, attrdict, transformers, seqeval\n",
            "  Attempting uninstall: torch\n",
            "    Found existing installation: torch 1.13.1+cu116\n",
            "    Uninstalling torch-1.13.1+cu116:\n",
            "      Successfully uninstalled torch-1.13.1+cu116\n",
            "\u001b[31mERROR: pip's dependency resolver does not currently take into account all the packages that are installed. This behaviour is the source of the following dependency conflicts.\n",
            "torchvision 0.14.1+cu116 requires torch==1.13.1, but you have torch 1.6.0 which is incompatible.\n",
            "torchtext 0.14.1 requires torch==1.13.1, but you have torch 1.6.0 which is incompatible.\n",
            "torchaudio 0.13.1+cu116 requires torch==1.13.1, but you have torch 1.6.0 which is incompatible.\n",
            "fastai 2.7.11 requires torch<1.14,>=1.7, but you have torch 1.6.0 which is incompatible.\u001b[0m\u001b[31m\n",
            "\u001b[0mSuccessfully installed attrdict-2.0.1 sacremoses-0.0.53 sentencepiece-0.1.97 seqeval-1.2.2 tokenizers-0.8.1rc2 torch-1.6.0 transformers-3.3.1\n"
          ]
        }
      ]
    },
    {
      "cell_type": "code",
      "source": [
        "%run run_seq_cls.py --task korsts --config_file koelectra-base-v3.json"
      ],
      "metadata": {
        "colab": {
          "base_uri": "https://localhost:8080/",
          "height": 807
        },
        "id": "gRGW8FJWij2v",
        "outputId": "f938b752-68c3-49c6-8b0e-b80f7b178045"
      },
      "execution_count": null,
      "outputs": [
        {
          "output_type": "stream",
          "name": "stderr",
          "text": [
            "Some weights of the model checkpoint at monologg/koelectra-base-v3-discriminator were not used when initializing ElectraForSequenceClassification: ['discriminator_predictions.dense.weight', 'discriminator_predictions.dense.bias', 'discriminator_predictions.dense_prediction.weight', 'discriminator_predictions.dense_prediction.bias']\n",
            "- This IS expected if you are initializing ElectraForSequenceClassification from the checkpoint of a model trained on another task or with another architecture (e.g. initializing a BertForSequenceClassification model from a BertForPretraining model).\n",
            "- This IS NOT expected if you are initializing ElectraForSequenceClassification from the checkpoint of a model that you expect to be exactly identical (initializing a BertForSequenceClassification model from a BertForSequenceClassification model).\n",
            "Some weights of ElectraForSequenceClassification were not initialized from the model checkpoint at monologg/koelectra-base-v3-discriminator and are newly initialized: ['classifier.dense.weight', 'classifier.dense.bias', 'classifier.out_proj.weight', 'classifier.out_proj.bias']\n",
            "You should probably TRAIN this model on a down-stream task to be able to use it for predictions and inference.\n"
          ]
        },
        {
          "output_type": "display_data",
          "data": {
            "text/plain": [
              "<IPython.core.display.HTML object>"
            ],
            "text/html": [
              "\n",
              "<style>\n",
              "    /* Turns off some styling */\n",
              "    progress {\n",
              "        /* gets rid of default border in Firefox and Opera. */\n",
              "        border: none;\n",
              "        /* Needs to be in here for Safari polyfill so background images work as expected. */\n",
              "        background-size: auto;\n",
              "    }\n",
              "    progress:not([value]), progress:not([value])::-webkit-progress-bar {\n",
              "        background: repeating-linear-gradient(45deg, #7e7e7e, #7e7e7e 10px, #5c5c5c 10px, #5c5c5c 20px);\n",
              "    }\n",
              "    .progress-bar-interrupted, .progress-bar-interrupted::-webkit-progress-bar {\n",
              "        background: #F44336;\n",
              "    }\n",
              "</style>\n"
            ]
          },
          "metadata": {}
        },
        {
          "output_type": "display_data",
          "data": {
            "text/plain": [
              "<IPython.core.display.HTML object>"
            ],
            "text/html": [
              "Epoch 1 done<p>Epoch 2 done<p>Epoch 3 done<p>Epoch 4 done<p>Epoch 5 done<p>Epoch 6 done<p>Epoch 7 done<p>Epoch 8 done<p>Epoch 9 done<p>Epoch 10 done"
            ]
          },
          "metadata": {}
        },
        {
          "output_type": "display_data",
          "data": {
            "text/plain": [
              "<IPython.core.display.HTML object>"
            ],
            "text/html": [
              "\n",
              "<style>\n",
              "    /* Turns off some styling */\n",
              "    progress {\n",
              "        /* gets rid of default border in Firefox and Opera. */\n",
              "        border: none;\n",
              "        /* Needs to be in here for Safari polyfill so background images work as expected. */\n",
              "        background-size: auto;\n",
              "    }\n",
              "    progress:not([value]), progress:not([value])::-webkit-progress-bar {\n",
              "        background: repeating-linear-gradient(45deg, #7e7e7e, #7e7e7e 10px, #5c5c5c 10px, #5c5c5c 20px);\n",
              "    }\n",
              "    .progress-bar-interrupted, .progress-bar-interrupted::-webkit-progress-bar {\n",
              "        background: #F44336;\n",
              "    }\n",
              "</style>\n"
            ]
          },
          "metadata": {}
        },
        {
          "output_type": "display_data",
          "data": {
            "text/plain": [
              "<IPython.core.display.HTML object>"
            ],
            "text/html": [
              "\n",
              "    <div>\n",
              "      <progress value='78' class='' max='78' style='width:300px; height:20px; vertical-align: middle;'></progress>\n",
              "      100.00% [78/78 00:18&lt;00:00]\n",
              "    </div>\n",
              "    "
            ]
          },
          "metadata": {}
        },
        {
          "output_type": "stream",
          "name": "stderr",
          "text": [
            "/usr/local/lib/python3.8/dist-packages/torch/optim/lr_scheduler.py:200: UserWarning: Please also save or load the state of the optimzer when saving or loading the scheduler.\n",
            "  warnings.warn(SAVE_STATE_WARNING, UserWarning)\n"
          ]
        },
        {
          "output_type": "display_data",
          "data": {
            "text/plain": [
              "<IPython.core.display.HTML object>"
            ],
            "text/html": [
              "\n",
              "<style>\n",
              "    /* Turns off some styling */\n",
              "    progress {\n",
              "        /* gets rid of default border in Firefox and Opera. */\n",
              "        border: none;\n",
              "        /* Needs to be in here for Safari polyfill so background images work as expected. */\n",
              "        background-size: auto;\n",
              "    }\n",
              "    progress:not([value]), progress:not([value])::-webkit-progress-bar {\n",
              "        background: repeating-linear-gradient(45deg, #7e7e7e, #7e7e7e 10px, #5c5c5c 10px, #5c5c5c 20px);\n",
              "    }\n",
              "    .progress-bar-interrupted, .progress-bar-interrupted::-webkit-progress-bar {\n",
              "        background: #F44336;\n",
              "    }\n",
              "</style>\n"
            ]
          },
          "metadata": {}
        },
        {
          "output_type": "display_data",
          "data": {
            "text/plain": [
              "<IPython.core.display.HTML object>"
            ],
            "text/html": [
              "\n",
              "    <div>\n",
              "      <progress value='78' class='' max='78' style='width:300px; height:20px; vertical-align: middle;'></progress>\n",
              "      100.00% [78/78 00:18&lt;00:00]\n",
              "    </div>\n",
              "    "
            ]
          },
          "metadata": {}
        },
        {
          "output_type": "display_data",
          "data": {
            "text/plain": [
              "<IPython.core.display.HTML object>"
            ],
            "text/html": [
              "\n",
              "<style>\n",
              "    /* Turns off some styling */\n",
              "    progress {\n",
              "        /* gets rid of default border in Firefox and Opera. */\n",
              "        border: none;\n",
              "        /* Needs to be in here for Safari polyfill so background images work as expected. */\n",
              "        background-size: auto;\n",
              "    }\n",
              "    progress:not([value]), progress:not([value])::-webkit-progress-bar {\n",
              "        background: repeating-linear-gradient(45deg, #7e7e7e, #7e7e7e 10px, #5c5c5c 10px, #5c5c5c 20px);\n",
              "    }\n",
              "    .progress-bar-interrupted, .progress-bar-interrupted::-webkit-progress-bar {\n",
              "        background: #F44336;\n",
              "    }\n",
              "</style>\n"
            ]
          },
          "metadata": {}
        },
        {
          "output_type": "display_data",
          "data": {
            "text/plain": [
              "<IPython.core.display.HTML object>"
            ],
            "text/html": [
              "\n",
              "    <div>\n",
              "      <progress value='78' class='' max='78' style='width:300px; height:20px; vertical-align: middle;'></progress>\n",
              "      100.00% [78/78 00:18&lt;00:00]\n",
              "    </div>\n",
              "    "
            ]
          },
          "metadata": {}
        },
        {
          "output_type": "display_data",
          "data": {
            "text/plain": [
              "<IPython.core.display.HTML object>"
            ],
            "text/html": [
              "\n",
              "<style>\n",
              "    /* Turns off some styling */\n",
              "    progress {\n",
              "        /* gets rid of default border in Firefox and Opera. */\n",
              "        border: none;\n",
              "        /* Needs to be in here for Safari polyfill so background images work as expected. */\n",
              "        background-size: auto;\n",
              "    }\n",
              "    progress:not([value]), progress:not([value])::-webkit-progress-bar {\n",
              "        background: repeating-linear-gradient(45deg, #7e7e7e, #7e7e7e 10px, #5c5c5c 10px, #5c5c5c 20px);\n",
              "    }\n",
              "    .progress-bar-interrupted, .progress-bar-interrupted::-webkit-progress-bar {\n",
              "        background: #F44336;\n",
              "    }\n",
              "</style>\n"
            ]
          },
          "metadata": {}
        },
        {
          "output_type": "display_data",
          "data": {
            "text/plain": [
              "<IPython.core.display.HTML object>"
            ],
            "text/html": [
              "\n",
              "    <div>\n",
              "      <progress value='78' class='' max='78' style='width:300px; height:20px; vertical-align: middle;'></progress>\n",
              "      100.00% [78/78 00:18&lt;00:00]\n",
              "    </div>\n",
              "    "
            ]
          },
          "metadata": {}
        },
        {
          "output_type": "display_data",
          "data": {
            "text/plain": [
              "<IPython.core.display.HTML object>"
            ],
            "text/html": [
              "\n",
              "<style>\n",
              "    /* Turns off some styling */\n",
              "    progress {\n",
              "        /* gets rid of default border in Firefox and Opera. */\n",
              "        border: none;\n",
              "        /* Needs to be in here for Safari polyfill so background images work as expected. */\n",
              "        background-size: auto;\n",
              "    }\n",
              "    progress:not([value]), progress:not([value])::-webkit-progress-bar {\n",
              "        background: repeating-linear-gradient(45deg, #7e7e7e, #7e7e7e 10px, #5c5c5c 10px, #5c5c5c 20px);\n",
              "    }\n",
              "    .progress-bar-interrupted, .progress-bar-interrupted::-webkit-progress-bar {\n",
              "        background: #F44336;\n",
              "    }\n",
              "</style>\n"
            ]
          },
          "metadata": {}
        },
        {
          "output_type": "display_data",
          "data": {
            "text/plain": [
              "<IPython.core.display.HTML object>"
            ],
            "text/html": [
              "\n",
              "    <div>\n",
              "      <progress value='78' class='' max='78' style='width:300px; height:20px; vertical-align: middle;'></progress>\n",
              "      100.00% [78/78 00:18&lt;00:00]\n",
              "    </div>\n",
              "    "
            ]
          },
          "metadata": {}
        },
        {
          "output_type": "display_data",
          "data": {
            "text/plain": [
              "<IPython.core.display.HTML object>"
            ],
            "text/html": [
              "\n",
              "<style>\n",
              "    /* Turns off some styling */\n",
              "    progress {\n",
              "        /* gets rid of default border in Firefox and Opera. */\n",
              "        border: none;\n",
              "        /* Needs to be in here for Safari polyfill so background images work as expected. */\n",
              "        background-size: auto;\n",
              "    }\n",
              "    progress:not([value]), progress:not([value])::-webkit-progress-bar {\n",
              "        background: repeating-linear-gradient(45deg, #7e7e7e, #7e7e7e 10px, #5c5c5c 10px, #5c5c5c 20px);\n",
              "    }\n",
              "    .progress-bar-interrupted, .progress-bar-interrupted::-webkit-progress-bar {\n",
              "        background: #F44336;\n",
              "    }\n",
              "</style>\n"
            ]
          },
          "metadata": {}
        },
        {
          "output_type": "display_data",
          "data": {
            "text/plain": [
              "<IPython.core.display.HTML object>"
            ],
            "text/html": [
              "\n",
              "    <div>\n",
              "      <progress value='78' class='' max='78' style='width:300px; height:20px; vertical-align: middle;'></progress>\n",
              "      100.00% [78/78 00:18&lt;00:00]\n",
              "    </div>\n",
              "    "
            ]
          },
          "metadata": {}
        },
        {
          "output_type": "display_data",
          "data": {
            "text/plain": [
              "<IPython.core.display.HTML object>"
            ],
            "text/html": [
              "\n",
              "<style>\n",
              "    /* Turns off some styling */\n",
              "    progress {\n",
              "        /* gets rid of default border in Firefox and Opera. */\n",
              "        border: none;\n",
              "        /* Needs to be in here for Safari polyfill so background images work as expected. */\n",
              "        background-size: auto;\n",
              "    }\n",
              "    progress:not([value]), progress:not([value])::-webkit-progress-bar {\n",
              "        background: repeating-linear-gradient(45deg, #7e7e7e, #7e7e7e 10px, #5c5c5c 10px, #5c5c5c 20px);\n",
              "    }\n",
              "    .progress-bar-interrupted, .progress-bar-interrupted::-webkit-progress-bar {\n",
              "        background: #F44336;\n",
              "    }\n",
              "</style>\n"
            ]
          },
          "metadata": {}
        },
        {
          "output_type": "display_data",
          "data": {
            "text/plain": [
              "<IPython.core.display.HTML object>"
            ],
            "text/html": [
              "\n",
              "    <div>\n",
              "      <progress value='78' class='' max='78' style='width:300px; height:20px; vertical-align: middle;'></progress>\n",
              "      100.00% [78/78 00:18&lt;00:00]\n",
              "    </div>\n",
              "    "
            ]
          },
          "metadata": {}
        },
        {
          "output_type": "display_data",
          "data": {
            "text/plain": [
              "<IPython.core.display.HTML object>"
            ],
            "text/html": [
              "\n",
              "<style>\n",
              "    /* Turns off some styling */\n",
              "    progress {\n",
              "        /* gets rid of default border in Firefox and Opera. */\n",
              "        border: none;\n",
              "        /* Needs to be in here for Safari polyfill so background images work as expected. */\n",
              "        background-size: auto;\n",
              "    }\n",
              "    progress:not([value]), progress:not([value])::-webkit-progress-bar {\n",
              "        background: repeating-linear-gradient(45deg, #7e7e7e, #7e7e7e 10px, #5c5c5c 10px, #5c5c5c 20px);\n",
              "    }\n",
              "    .progress-bar-interrupted, .progress-bar-interrupted::-webkit-progress-bar {\n",
              "        background: #F44336;\n",
              "    }\n",
              "</style>\n"
            ]
          },
          "metadata": {}
        },
        {
          "output_type": "display_data",
          "data": {
            "text/plain": [
              "<IPython.core.display.HTML object>"
            ],
            "text/html": [
              "\n",
              "    <div>\n",
              "      <progress value='78' class='' max='78' style='width:300px; height:20px; vertical-align: middle;'></progress>\n",
              "      100.00% [78/78 00:18&lt;00:00]\n",
              "    </div>\n",
              "    "
            ]
          },
          "metadata": {}
        },
        {
          "output_type": "display_data",
          "data": {
            "text/plain": [
              "<IPython.core.display.HTML object>"
            ],
            "text/html": [
              "\n",
              "<style>\n",
              "    /* Turns off some styling */\n",
              "    progress {\n",
              "        /* gets rid of default border in Firefox and Opera. */\n",
              "        border: none;\n",
              "        /* Needs to be in here for Safari polyfill so background images work as expected. */\n",
              "        background-size: auto;\n",
              "    }\n",
              "    progress:not([value]), progress:not([value])::-webkit-progress-bar {\n",
              "        background: repeating-linear-gradient(45deg, #7e7e7e, #7e7e7e 10px, #5c5c5c 10px, #5c5c5c 20px);\n",
              "    }\n",
              "    .progress-bar-interrupted, .progress-bar-interrupted::-webkit-progress-bar {\n",
              "        background: #F44336;\n",
              "    }\n",
              "</style>\n"
            ]
          },
          "metadata": {}
        },
        {
          "output_type": "display_data",
          "data": {
            "text/plain": [
              "<IPython.core.display.HTML object>"
            ],
            "text/html": [
              "\n",
              "    <div>\n",
              "      <progress value='78' class='' max='78' style='width:300px; height:20px; vertical-align: middle;'></progress>\n",
              "      100.00% [78/78 00:18&lt;00:00]\n",
              "    </div>\n",
              "    "
            ]
          },
          "metadata": {}
        },
        {
          "output_type": "display_data",
          "data": {
            "text/plain": [
              "<IPython.core.display.HTML object>"
            ],
            "text/html": [
              "\n",
              "<style>\n",
              "    /* Turns off some styling */\n",
              "    progress {\n",
              "        /* gets rid of default border in Firefox and Opera. */\n",
              "        border: none;\n",
              "        /* Needs to be in here for Safari polyfill so background images work as expected. */\n",
              "        background-size: auto;\n",
              "    }\n",
              "    progress:not([value]), progress:not([value])::-webkit-progress-bar {\n",
              "        background: repeating-linear-gradient(45deg, #7e7e7e, #7e7e7e 10px, #5c5c5c 10px, #5c5c5c 20px);\n",
              "    }\n",
              "    .progress-bar-interrupted, .progress-bar-interrupted::-webkit-progress-bar {\n",
              "        background: #F44336;\n",
              "    }\n",
              "</style>\n"
            ]
          },
          "metadata": {}
        },
        {
          "output_type": "display_data",
          "data": {
            "text/plain": [
              "<IPython.core.display.HTML object>"
            ],
            "text/html": [
              "\n",
              "    <div>\n",
              "      <progress value='78' class='' max='78' style='width:300px; height:20px; vertical-align: middle;'></progress>\n",
              "      100.00% [78/78 00:18&lt;00:00]\n",
              "    </div>\n",
              "    "
            ]
          },
          "metadata": {}
        },
        {
          "output_type": "display_data",
          "data": {
            "text/plain": [
              "<IPython.core.display.HTML object>"
            ],
            "text/html": [
              "\n",
              "<style>\n",
              "    /* Turns off some styling */\n",
              "    progress {\n",
              "        /* gets rid of default border in Firefox and Opera. */\n",
              "        border: none;\n",
              "        /* Needs to be in here for Safari polyfill so background images work as expected. */\n",
              "        background-size: auto;\n",
              "    }\n",
              "    progress:not([value]), progress:not([value])::-webkit-progress-bar {\n",
              "        background: repeating-linear-gradient(45deg, #7e7e7e, #7e7e7e 10px, #5c5c5c 10px, #5c5c5c 20px);\n",
              "    }\n",
              "    .progress-bar-interrupted, .progress-bar-interrupted::-webkit-progress-bar {\n",
              "        background: #F44336;\n",
              "    }\n",
              "</style>\n"
            ]
          },
          "metadata": {}
        },
        {
          "output_type": "display_data",
          "data": {
            "text/plain": [
              "<IPython.core.display.HTML object>"
            ],
            "text/html": [
              "\n",
              "    <div>\n",
              "      <progress value='18' class='' max='18' style='width:300px; height:20px; vertical-align: middle;'></progress>\n",
              "      100.00% [18/18 00:04&lt;00:00]\n",
              "    </div>\n",
              "    "
            ]
          },
          "metadata": {}
        },
        {
          "output_type": "display_data",
          "data": {
            "text/plain": [
              "<IPython.core.display.HTML object>"
            ],
            "text/html": [
              "\n",
              "<style>\n",
              "    /* Turns off some styling */\n",
              "    progress {\n",
              "        /* gets rid of default border in Firefox and Opera. */\n",
              "        border: none;\n",
              "        /* Needs to be in here for Safari polyfill so background images work as expected. */\n",
              "        background-size: auto;\n",
              "    }\n",
              "    progress:not([value]), progress:not([value])::-webkit-progress-bar {\n",
              "        background: repeating-linear-gradient(45deg, #7e7e7e, #7e7e7e 10px, #5c5c5c 10px, #5c5c5c 20px);\n",
              "    }\n",
              "    .progress-bar-interrupted, .progress-bar-interrupted::-webkit-progress-bar {\n",
              "        background: #F44336;\n",
              "    }\n",
              "</style>\n"
            ]
          },
          "metadata": {}
        },
        {
          "output_type": "display_data",
          "data": {
            "text/plain": [
              "<IPython.core.display.HTML object>"
            ],
            "text/html": [
              "\n",
              "    <div>\n",
              "      <progress value='18' class='' max='18' style='width:300px; height:20px; vertical-align: middle;'></progress>\n",
              "      100.00% [18/18 00:04&lt;00:00]\n",
              "    </div>\n",
              "    "
            ]
          },
          "metadata": {}
        },
        {
          "output_type": "display_data",
          "data": {
            "text/plain": [
              "<IPython.core.display.HTML object>"
            ],
            "text/html": [
              "\n",
              "<style>\n",
              "    /* Turns off some styling */\n",
              "    progress {\n",
              "        /* gets rid of default border in Firefox and Opera. */\n",
              "        border: none;\n",
              "        /* Needs to be in here for Safari polyfill so background images work as expected. */\n",
              "        background-size: auto;\n",
              "    }\n",
              "    progress:not([value]), progress:not([value])::-webkit-progress-bar {\n",
              "        background: repeating-linear-gradient(45deg, #7e7e7e, #7e7e7e 10px, #5c5c5c 10px, #5c5c5c 20px);\n",
              "    }\n",
              "    .progress-bar-interrupted, .progress-bar-interrupted::-webkit-progress-bar {\n",
              "        background: #F44336;\n",
              "    }\n",
              "</style>\n"
            ]
          },
          "metadata": {}
        },
        {
          "output_type": "display_data",
          "data": {
            "text/plain": [
              "<IPython.core.display.HTML object>"
            ],
            "text/html": [
              "\n",
              "    <div>\n",
              "      <progress value='18' class='' max='18' style='width:300px; height:20px; vertical-align: middle;'></progress>\n",
              "      100.00% [18/18 00:04&lt;00:00]\n",
              "    </div>\n",
              "    "
            ]
          },
          "metadata": {}
        },
        {
          "output_type": "display_data",
          "data": {
            "text/plain": [
              "<IPython.core.display.HTML object>"
            ],
            "text/html": [
              "\n",
              "<style>\n",
              "    /* Turns off some styling */\n",
              "    progress {\n",
              "        /* gets rid of default border in Firefox and Opera. */\n",
              "        border: none;\n",
              "        /* Needs to be in here for Safari polyfill so background images work as expected. */\n",
              "        background-size: auto;\n",
              "    }\n",
              "    progress:not([value]), progress:not([value])::-webkit-progress-bar {\n",
              "        background: repeating-linear-gradient(45deg, #7e7e7e, #7e7e7e 10px, #5c5c5c 10px, #5c5c5c 20px);\n",
              "    }\n",
              "    .progress-bar-interrupted, .progress-bar-interrupted::-webkit-progress-bar {\n",
              "        background: #F44336;\n",
              "    }\n",
              "</style>\n"
            ]
          },
          "metadata": {}
        },
        {
          "output_type": "display_data",
          "data": {
            "text/plain": [
              "<IPython.core.display.HTML object>"
            ],
            "text/html": [
              "\n",
              "    <div>\n",
              "      <progress value='18' class='' max='18' style='width:300px; height:20px; vertical-align: middle;'></progress>\n",
              "      100.00% [18/18 00:04&lt;00:00]\n",
              "    </div>\n",
              "    "
            ]
          },
          "metadata": {}
        },
        {
          "output_type": "display_data",
          "data": {
            "text/plain": [
              "<IPython.core.display.HTML object>"
            ],
            "text/html": [
              "\n",
              "<style>\n",
              "    /* Turns off some styling */\n",
              "    progress {\n",
              "        /* gets rid of default border in Firefox and Opera. */\n",
              "        border: none;\n",
              "        /* Needs to be in here for Safari polyfill so background images work as expected. */\n",
              "        background-size: auto;\n",
              "    }\n",
              "    progress:not([value]), progress:not([value])::-webkit-progress-bar {\n",
              "        background: repeating-linear-gradient(45deg, #7e7e7e, #7e7e7e 10px, #5c5c5c 10px, #5c5c5c 20px);\n",
              "    }\n",
              "    .progress-bar-interrupted, .progress-bar-interrupted::-webkit-progress-bar {\n",
              "        background: #F44336;\n",
              "    }\n",
              "</style>\n"
            ]
          },
          "metadata": {}
        },
        {
          "output_type": "display_data",
          "data": {
            "text/plain": [
              "<IPython.core.display.HTML object>"
            ],
            "text/html": [
              "\n",
              "    <div>\n",
              "      <progress value='18' class='' max='18' style='width:300px; height:20px; vertical-align: middle;'></progress>\n",
              "      100.00% [18/18 00:04&lt;00:00]\n",
              "    </div>\n",
              "    "
            ]
          },
          "metadata": {}
        },
        {
          "output_type": "display_data",
          "data": {
            "text/plain": [
              "<IPython.core.display.HTML object>"
            ],
            "text/html": [
              "\n",
              "<style>\n",
              "    /* Turns off some styling */\n",
              "    progress {\n",
              "        /* gets rid of default border in Firefox and Opera. */\n",
              "        border: none;\n",
              "        /* Needs to be in here for Safari polyfill so background images work as expected. */\n",
              "        background-size: auto;\n",
              "    }\n",
              "    progress:not([value]), progress:not([value])::-webkit-progress-bar {\n",
              "        background: repeating-linear-gradient(45deg, #7e7e7e, #7e7e7e 10px, #5c5c5c 10px, #5c5c5c 20px);\n",
              "    }\n",
              "    .progress-bar-interrupted, .progress-bar-interrupted::-webkit-progress-bar {\n",
              "        background: #F44336;\n",
              "    }\n",
              "</style>\n"
            ]
          },
          "metadata": {}
        },
        {
          "output_type": "display_data",
          "data": {
            "text/plain": [
              "<IPython.core.display.HTML object>"
            ],
            "text/html": [
              "\n",
              "    <div>\n",
              "      <progress value='18' class='' max='18' style='width:300px; height:20px; vertical-align: middle;'></progress>\n",
              "      100.00% [18/18 00:04&lt;00:00]\n",
              "    </div>\n",
              "    "
            ]
          },
          "metadata": {}
        },
        {
          "output_type": "display_data",
          "data": {
            "text/plain": [
              "<IPython.core.display.HTML object>"
            ],
            "text/html": [
              "\n",
              "<style>\n",
              "    /* Turns off some styling */\n",
              "    progress {\n",
              "        /* gets rid of default border in Firefox and Opera. */\n",
              "        border: none;\n",
              "        /* Needs to be in here for Safari polyfill so background images work as expected. */\n",
              "        background-size: auto;\n",
              "    }\n",
              "    progress:not([value]), progress:not([value])::-webkit-progress-bar {\n",
              "        background: repeating-linear-gradient(45deg, #7e7e7e, #7e7e7e 10px, #5c5c5c 10px, #5c5c5c 20px);\n",
              "    }\n",
              "    .progress-bar-interrupted, .progress-bar-interrupted::-webkit-progress-bar {\n",
              "        background: #F44336;\n",
              "    }\n",
              "</style>\n"
            ]
          },
          "metadata": {}
        },
        {
          "output_type": "display_data",
          "data": {
            "text/plain": [
              "<IPython.core.display.HTML object>"
            ],
            "text/html": [
              "\n",
              "    <div>\n",
              "      <progress value='18' class='' max='18' style='width:300px; height:20px; vertical-align: middle;'></progress>\n",
              "      100.00% [18/18 00:04&lt;00:00]\n",
              "    </div>\n",
              "    "
            ]
          },
          "metadata": {}
        },
        {
          "output_type": "display_data",
          "data": {
            "text/plain": [
              "<IPython.core.display.HTML object>"
            ],
            "text/html": [
              "\n",
              "<style>\n",
              "    /* Turns off some styling */\n",
              "    progress {\n",
              "        /* gets rid of default border in Firefox and Opera. */\n",
              "        border: none;\n",
              "        /* Needs to be in here for Safari polyfill so background images work as expected. */\n",
              "        background-size: auto;\n",
              "    }\n",
              "    progress:not([value]), progress:not([value])::-webkit-progress-bar {\n",
              "        background: repeating-linear-gradient(45deg, #7e7e7e, #7e7e7e 10px, #5c5c5c 10px, #5c5c5c 20px);\n",
              "    }\n",
              "    .progress-bar-interrupted, .progress-bar-interrupted::-webkit-progress-bar {\n",
              "        background: #F44336;\n",
              "    }\n",
              "</style>\n"
            ]
          },
          "metadata": {}
        },
        {
          "output_type": "display_data",
          "data": {
            "text/plain": [
              "<IPython.core.display.HTML object>"
            ],
            "text/html": [
              "\n",
              "    <div>\n",
              "      <progress value='18' class='' max='18' style='width:300px; height:20px; vertical-align: middle;'></progress>\n",
              "      100.00% [18/18 00:04&lt;00:00]\n",
              "    </div>\n",
              "    "
            ]
          },
          "metadata": {}
        },
        {
          "output_type": "display_data",
          "data": {
            "text/plain": [
              "<IPython.core.display.HTML object>"
            ],
            "text/html": [
              "\n",
              "<style>\n",
              "    /* Turns off some styling */\n",
              "    progress {\n",
              "        /* gets rid of default border in Firefox and Opera. */\n",
              "        border: none;\n",
              "        /* Needs to be in here for Safari polyfill so background images work as expected. */\n",
              "        background-size: auto;\n",
              "    }\n",
              "    progress:not([value]), progress:not([value])::-webkit-progress-bar {\n",
              "        background: repeating-linear-gradient(45deg, #7e7e7e, #7e7e7e 10px, #5c5c5c 10px, #5c5c5c 20px);\n",
              "    }\n",
              "    .progress-bar-interrupted, .progress-bar-interrupted::-webkit-progress-bar {\n",
              "        background: #F44336;\n",
              "    }\n",
              "</style>\n"
            ]
          },
          "metadata": {}
        },
        {
          "output_type": "display_data",
          "data": {
            "text/plain": [
              "<IPython.core.display.HTML object>"
            ],
            "text/html": [
              "\n",
              "    <div>\n",
              "      <progress value='18' class='' max='18' style='width:300px; height:20px; vertical-align: middle;'></progress>\n",
              "      100.00% [18/18 00:04&lt;00:00]\n",
              "    </div>\n",
              "    "
            ]
          },
          "metadata": {}
        },
        {
          "output_type": "display_data",
          "data": {
            "text/plain": [
              "<IPython.core.display.HTML object>"
            ],
            "text/html": [
              "\n",
              "<style>\n",
              "    /* Turns off some styling */\n",
              "    progress {\n",
              "        /* gets rid of default border in Firefox and Opera. */\n",
              "        border: none;\n",
              "        /* Needs to be in here for Safari polyfill so background images work as expected. */\n",
              "        background-size: auto;\n",
              "    }\n",
              "    progress:not([value]), progress:not([value])::-webkit-progress-bar {\n",
              "        background: repeating-linear-gradient(45deg, #7e7e7e, #7e7e7e 10px, #5c5c5c 10px, #5c5c5c 20px);\n",
              "    }\n",
              "    .progress-bar-interrupted, .progress-bar-interrupted::-webkit-progress-bar {\n",
              "        background: #F44336;\n",
              "    }\n",
              "</style>\n"
            ]
          },
          "metadata": {}
        },
        {
          "output_type": "display_data",
          "data": {
            "text/plain": [
              "<IPython.core.display.HTML object>"
            ],
            "text/html": [
              "\n",
              "    <div>\n",
              "      <progress value='18' class='' max='18' style='width:300px; height:20px; vertical-align: middle;'></progress>\n",
              "      100.00% [18/18 00:04&lt;00:00]\n",
              "    </div>\n",
              "    "
            ]
          },
          "metadata": {}
        }
      ]
    },
    {
      "cell_type": "markdown",
      "source": [
        "- 학습 결과 저장"
      ],
      "metadata": {
        "id": "nW_gi-S0D5hE"
      }
    },
    {
      "cell_type": "code",
      "source": [
        "from google.colab import files"
      ],
      "metadata": {
        "id": "skFRfHBiBSBa"
      },
      "execution_count": null,
      "outputs": []
    },
    {
      "cell_type": "code",
      "source": [
        "!zip -r /content/dev.zip /content/KoELECTRA/finetune/ckpt/koelectra-base-v3-korsts-ckpt/dev"
      ],
      "metadata": {
        "colab": {
          "base_uri": "https://localhost:8080/"
        },
        "id": "QtuoKlbXCllb",
        "outputId": "d51201d3-cf18-43ea-e2b2-39a37131e60e"
      },
      "execution_count": null,
      "outputs": [
        {
          "output_type": "stream",
          "name": "stdout",
          "text": [
            "  adding: content/KoELECTRA/finetune/ckpt/koelectra-base-v3-korsts-ckpt/dev/ (stored 0%)\n",
            "  adding: content/KoELECTRA/finetune/ckpt/koelectra-base-v3-korsts-ckpt/dev/dev-1168.txt (deflated 52%)\n",
            "  adding: content/KoELECTRA/finetune/ckpt/koelectra-base-v3-korsts-ckpt/dev/dev-2336.txt (deflated 51%)\n",
            "  adding: content/KoELECTRA/finetune/ckpt/koelectra-base-v3-korsts-ckpt/dev/dev-292.txt (deflated 51%)\n",
            "  adding: content/KoELECTRA/finetune/ckpt/koelectra-base-v3-korsts-ckpt/dev/dev-584.txt (deflated 51%)\n",
            "  adding: content/KoELECTRA/finetune/ckpt/koelectra-base-v3-korsts-ckpt/dev/dev-2628.txt (deflated 51%)\n",
            "  adding: content/KoELECTRA/finetune/ckpt/koelectra-base-v3-korsts-ckpt/dev/dev-2920.txt (deflated 51%)\n",
            "  adding: content/KoELECTRA/finetune/ckpt/koelectra-base-v3-korsts-ckpt/dev/dev-1752.txt (deflated 51%)\n",
            "  adding: content/KoELECTRA/finetune/ckpt/koelectra-base-v3-korsts-ckpt/dev/dev-1460.txt (deflated 51%)\n",
            "  adding: content/KoELECTRA/finetune/ckpt/koelectra-base-v3-korsts-ckpt/dev/dev-876.txt (deflated 52%)\n",
            "  adding: content/KoELECTRA/finetune/ckpt/koelectra-base-v3-korsts-ckpt/dev/dev-2044.txt (deflated 51%)\n"
          ]
        }
      ]
    },
    {
      "cell_type": "code",
      "source": [
        "!zip -r /content/test.zip /content/KoELECTRA/finetune/ckpt/koelectra-base-v3-korsts-ckpt/test"
      ],
      "metadata": {
        "colab": {
          "base_uri": "https://localhost:8080/"
        },
        "id": "r69r10prC1Sm",
        "outputId": "95c5329e-830e-439c-924d-600d6ac7a647"
      },
      "execution_count": null,
      "outputs": [
        {
          "output_type": "stream",
          "name": "stdout",
          "text": [
            "  adding: content/KoELECTRA/finetune/ckpt/koelectra-base-v3-korsts-ckpt/test/ (stored 0%)\n",
            "  adding: content/KoELECTRA/finetune/ckpt/koelectra-base-v3-korsts-ckpt/test/test-876.txt (deflated 45%)\n",
            "  adding: content/KoELECTRA/finetune/ckpt/koelectra-base-v3-korsts-ckpt/test/test-2044.txt (deflated 45%)\n",
            "  adding: content/KoELECTRA/finetune/ckpt/koelectra-base-v3-korsts-ckpt/test/test-1752.txt (deflated 46%)\n",
            "  adding: content/KoELECTRA/finetune/ckpt/koelectra-base-v3-korsts-ckpt/test/test-584.txt (deflated 44%)\n",
            "  adding: content/KoELECTRA/finetune/ckpt/koelectra-base-v3-korsts-ckpt/test/test-2336.txt (deflated 45%)\n",
            "  adding: content/KoELECTRA/finetune/ckpt/koelectra-base-v3-korsts-ckpt/test/test-1460.txt (deflated 45%)\n",
            "  adding: content/KoELECTRA/finetune/ckpt/koelectra-base-v3-korsts-ckpt/test/test-1168.txt (deflated 44%)\n",
            "  adding: content/KoELECTRA/finetune/ckpt/koelectra-base-v3-korsts-ckpt/test/test-2628.txt (deflated 44%)\n",
            "  adding: content/KoELECTRA/finetune/ckpt/koelectra-base-v3-korsts-ckpt/test/test-292.txt (deflated 45%)\n",
            "  adding: content/KoELECTRA/finetune/ckpt/koelectra-base-v3-korsts-ckpt/test/test-2920.txt (deflated 46%)\n"
          ]
        }
      ]
    },
    {
      "cell_type": "code",
      "source": [
        "files.download(\"/content/dev.zip\")"
      ],
      "metadata": {
        "colab": {
          "base_uri": "https://localhost:8080/",
          "height": 17
        },
        "id": "9ald6CiMA913",
        "outputId": "677714b9-d85d-492c-93e7-7d9d79a76467"
      },
      "execution_count": null,
      "outputs": [
        {
          "output_type": "display_data",
          "data": {
            "text/plain": [
              "<IPython.core.display.Javascript object>"
            ],
            "application/javascript": [
              "\n",
              "    async function download(id, filename, size) {\n",
              "      if (!google.colab.kernel.accessAllowed) {\n",
              "        return;\n",
              "      }\n",
              "      const div = document.createElement('div');\n",
              "      const label = document.createElement('label');\n",
              "      label.textContent = `Downloading \"${filename}\": `;\n",
              "      div.appendChild(label);\n",
              "      const progress = document.createElement('progress');\n",
              "      progress.max = size;\n",
              "      div.appendChild(progress);\n",
              "      document.body.appendChild(div);\n",
              "\n",
              "      const buffers = [];\n",
              "      let downloaded = 0;\n",
              "\n",
              "      const channel = await google.colab.kernel.comms.open(id);\n",
              "      // Send a message to notify the kernel that we're ready.\n",
              "      channel.send({})\n",
              "\n",
              "      for await (const message of channel.messages) {\n",
              "        // Send a message to notify the kernel that we're ready.\n",
              "        channel.send({})\n",
              "        if (message.buffers) {\n",
              "          for (const buffer of message.buffers) {\n",
              "            buffers.push(buffer);\n",
              "            downloaded += buffer.byteLength;\n",
              "            progress.value = downloaded;\n",
              "          }\n",
              "        }\n",
              "      }\n",
              "      const blob = new Blob(buffers, {type: 'application/binary'});\n",
              "      const a = document.createElement('a');\n",
              "      a.href = window.URL.createObjectURL(blob);\n",
              "      a.download = filename;\n",
              "      div.appendChild(a);\n",
              "      a.click();\n",
              "      div.remove();\n",
              "    }\n",
              "  "
            ]
          },
          "metadata": {}
        },
        {
          "output_type": "display_data",
          "data": {
            "text/plain": [
              "<IPython.core.display.Javascript object>"
            ],
            "application/javascript": [
              "download(\"download_0aaa42cf-25d8-4b1c-a829-af6b4e9ad8fc\", \"dev.zip\", 11419)"
            ]
          },
          "metadata": {}
        }
      ]
    },
    {
      "cell_type": "code",
      "source": [
        "files.download(\"/content/test.zip\")"
      ],
      "metadata": {
        "colab": {
          "base_uri": "https://localhost:8080/",
          "height": 17
        },
        "id": "o25HO7xBBhPF",
        "outputId": "31a32757-2165-4be2-da84-d4850d20e1d6"
      },
      "execution_count": null,
      "outputs": [
        {
          "output_type": "display_data",
          "data": {
            "text/plain": [
              "<IPython.core.display.Javascript object>"
            ],
            "application/javascript": [
              "\n",
              "    async function download(id, filename, size) {\n",
              "      if (!google.colab.kernel.accessAllowed) {\n",
              "        return;\n",
              "      }\n",
              "      const div = document.createElement('div');\n",
              "      const label = document.createElement('label');\n",
              "      label.textContent = `Downloading \"${filename}\": `;\n",
              "      div.appendChild(label);\n",
              "      const progress = document.createElement('progress');\n",
              "      progress.max = size;\n",
              "      div.appendChild(progress);\n",
              "      document.body.appendChild(div);\n",
              "\n",
              "      const buffers = [];\n",
              "      let downloaded = 0;\n",
              "\n",
              "      const channel = await google.colab.kernel.comms.open(id);\n",
              "      // Send a message to notify the kernel that we're ready.\n",
              "      channel.send({})\n",
              "\n",
              "      for await (const message of channel.messages) {\n",
              "        // Send a message to notify the kernel that we're ready.\n",
              "        channel.send({})\n",
              "        if (message.buffers) {\n",
              "          for (const buffer of message.buffers) {\n",
              "            buffers.push(buffer);\n",
              "            downloaded += buffer.byteLength;\n",
              "            progress.value = downloaded;\n",
              "          }\n",
              "        }\n",
              "      }\n",
              "      const blob = new Blob(buffers, {type: 'application/binary'});\n",
              "      const a = document.createElement('a');\n",
              "      a.href = window.URL.createObjectURL(blob);\n",
              "      a.download = filename;\n",
              "      div.appendChild(a);\n",
              "      a.click();\n",
              "      div.remove();\n",
              "    }\n",
              "  "
            ]
          },
          "metadata": {}
        },
        {
          "output_type": "display_data",
          "data": {
            "text/plain": [
              "<IPython.core.display.Javascript object>"
            ],
            "application/javascript": [
              "download(\"download_b734d74e-2dba-4866-8bf5-f9303830c5b7\", \"test.zip\", 5738)"
            ]
          },
          "metadata": {}
        }
      ]
    },
    {
      "cell_type": "markdown",
      "source": [
        "### 2) Loss 데이터 확인"
      ],
      "metadata": {
        "id": "6uaET25HE79p"
      }
    },
    {
      "cell_type": "code",
      "source": [
        "!unzip -qq \"/content/dev.zip\""
      ],
      "metadata": {
        "id": "LGXd4glkEwlQ"
      },
      "execution_count": null,
      "outputs": []
    },
    {
      "cell_type": "code",
      "source": [
        "!unzip -qq \"/content/test.zip\""
      ],
      "metadata": {
        "id": "5UgbJOLiE5IJ"
      },
      "execution_count": null,
      "outputs": []
    },
    {
      "cell_type": "markdown",
      "source": [
        "- DataFrame으로 변경"
      ],
      "metadata": {
        "id": "T2p9tLEVPn7-"
      }
    },
    {
      "cell_type": "code",
      "source": [
        "def file_to_df(f_dir, df, epoch, is_eval = True):\n",
        "  with open (f_dir, \"r\") as f:\n",
        "    data = f.readlines()\n",
        "    data = [x.strip() for x in data]\n",
        "    # 데이터 추출\n",
        "    pearson = re.sub(\"[^\\d*\\.?\\d+]\",\"\",data[2])\n",
        "    loss = list(map(float, data[1][6:][2:-2].strip().split(\",\")))\n",
        "    df.loc[len(df)] = [epoch, re.sub(\"[^\\d*\\.?\\d+]\",\"\",data[2]), loss, is_eval]\n",
        "\n",
        "import os\n",
        "import natsort # 파일명 정렬\n",
        "import pandas as pd\n",
        "import re\n",
        "\n",
        "df = pd.DataFrame(columns = [\"epoch\", \"pearson\", \"loss\", \"is_eval\"])\n",
        "dir_path = \"content/KoELECTRA/finetune/ckpt/koelectra-base-v3-korsts-ckpt\"\n",
        "for dir in os.listdir(dir_path):\n",
        "  file_path = os.path.join(dir_path, dir)\n",
        "  epoch = 0\n",
        "  for f in natsort.natsorted(os.listdir(file_path)):\n",
        "    print(f)\n",
        "    epoch += 1\n",
        "    if dir == \"dev\":\n",
        "      file_to_df(os.path.join(file_path, f), df, epoch)\n",
        "    else:\n",
        "      file_to_df(os.path.join(file_path, f), df, epoch, False)"
      ],
      "metadata": {
        "colab": {
          "base_uri": "https://localhost:8080/"
        },
        "id": "sD1W_0wwCP6m",
        "outputId": "395c5467-2ec2-40c6-a6ce-8a7f6927463d"
      },
      "execution_count": null,
      "outputs": [
        {
          "output_type": "stream",
          "name": "stdout",
          "text": [
            "dev-292.txt\n",
            "dev-584.txt\n",
            "dev-876.txt\n",
            "dev-1168.txt\n",
            "dev-1460.txt\n",
            "dev-1752.txt\n",
            "dev-2044.txt\n",
            "dev-2336.txt\n",
            "dev-2628.txt\n",
            "dev-2920.txt\n",
            "test-292.txt\n",
            "test-584.txt\n",
            "test-876.txt\n",
            "test-1168.txt\n",
            "test-1460.txt\n",
            "test-1752.txt\n",
            "test-2044.txt\n",
            "test-2336.txt\n",
            "test-2628.txt\n",
            "test-2920.txt\n"
          ]
        }
      ]
    },
    {
      "cell_type": "markdown",
      "source": [
        "- 마지막 표본은 N = 30이 아니기 때문에 제거"
      ],
      "metadata": {
        "id": "v3WLucSBwjBJ"
      }
    },
    {
      "cell_type": "code",
      "source": [
        "import numpy as np\n",
        "\n",
        "df['loss'] = df['loss'].apply(lambda x : x[:-1])\n",
        "df['loss_mean'] = df['loss'].apply(lambda x : np.mean(x))\n",
        "df['loss_std'] = df['loss'].apply(lambda x : np.std(x))\n",
        "df['loss_var'] = df['loss'].apply(lambda x : np.var(x))\n",
        "df['pearson'] = df['pearson'].apply(lambda x : float(x[:8]))"
      ],
      "metadata": {
        "id": "Tc0BMxlPJ2wc"
      },
      "execution_count": null,
      "outputs": []
    },
    {
      "cell_type": "markdown",
      "source": [
        "#### 검증 - 테스트 데이터에서의 Loss 변화 그래프\n",
        " - `검증 데이터`와 `테스트 데이터`의 `양상`이 다르다는 것을 `예측 가능`"
      ],
      "metadata": {
        "id": "bjog2pjBgcYh"
      }
    },
    {
      "cell_type": "code",
      "source": [
        "import seaborn as sns\n",
        "import matplotlib.pyplot as plt\n",
        "\n",
        "fig, axs = plt.subplots(1, 2, figsize = (10, 5))\n",
        "\n",
        "sns.lineplot(data = df, x = \"epoch\", y = \"loss_mean\", hue = \"is_eval\", ax = axs[0])\n",
        "sns.lineplot(data = df, x = \"epoch\", y = \"pearson\", hue = \"is_eval\", ax = axs[1])"
      ],
      "metadata": {
        "colab": {
          "base_uri": "https://localhost:8080/",
          "height": 352
        },
        "id": "ylcYMQnzgYgF",
        "outputId": "a3aed8d3-8e67-4046-c69d-b2cfe7c4a4ce"
      },
      "execution_count": null,
      "outputs": [
        {
          "output_type": "execute_result",
          "data": {
            "text/plain": [
              "<Axes: xlabel='epoch', ylabel='pearson'>"
            ]
          },
          "metadata": {},
          "execution_count": 5
        },
        {
          "output_type": "display_data",
          "data": {
            "text/plain": [
              "<Figure size 720x360 with 2 Axes>"
            ],
            "image/png": "[encoded data removed]"
          },
          "metadata": {
            "needs_background": "light"
          }
        }
      ]
    },
    {
      "cell_type": "markdown",
      "source": [
        "### 3) Loss 데이터를 활용한 T - 검정\n",
        "- 동일 모델 하, 독립적인 데이터로 얻은 결과를 분석하기 때문에 `2 - sample T 검정`을 활용"
      ],
      "metadata": {
        "id": "WE7iCfuH0TB5"
      }
    },
    {
      "cell_type": "code",
      "source": [
        "# 검증 - 테스트 분리\n",
        "eval_df = df[[\"epoch\", \"pearson\", \"loss\", \"loss_mean\", \"loss_std\", \"loss_var\"]].loc[df.is_eval == True].reset_index()\n",
        "test_df = df[[\"epoch\", \"pearson\", \"loss\", \"loss_mean\", \"loss_std\", \"loss_var\"]].loc[df.is_eval == False].reset_index()"
      ],
      "metadata": {
        "id": "5jWZx39k5qLI"
      },
      "execution_count": null,
      "outputs": []
    },
    {
      "cell_type": "markdown",
      "source": [
        "#### 정규성?\n",
        "- N = 30으로 추출된 표본이기에, 표본 평균의 분포는 정규 분포를 따름"
      ],
      "metadata": {
        "id": "GaY2X7I23M-1"
      }
    },
    {
      "cell_type": "markdown",
      "source": [
        "#### 등분산성?\n",
        "- Barlett Test을 활용한 검정\n",
        "  - H0 : `두 집단의 모 분산이 일치한다.`\n"
      ],
      "metadata": {
        "id": "vJDgPlFN42KZ"
      }
    },
    {
      "cell_type": "markdown",
      "source": [
        "\n",
        "- 다만 검증할 Loss의 분산 차이가 매우 작아, 높은 검정력까진 확보 불가\n",
        "- 실제로 0.008의 차이를 80%의 검정력, `0.05`의 유의 수준으로 확인하려면 표본의 크기는 `245277`이 돼야 함\n",
        "- 현재 표본 크기에서의 검정력은 `5%`"
      ],
      "metadata": {
        "id": "QeJF2uRyW3Hg"
      }
    },
    {
      "cell_type": "code",
      "source": [
        "print(f\"실제 검증 - 테스트 데이터 사이의 분산 차 : {abs(eval_df.loc[2].loss_var - test_df.loc[2].loss_var)}\")"
      ],
      "metadata": {
        "colab": {
          "base_uri": "https://localhost:8080/"
        },
        "id": "QUgBLWr1W_L3",
        "outputId": "e7651527-b64a-4b37-85ed-1cfcc96cc4e3"
      },
      "execution_count": null,
      "outputs": [
        {
          "output_type": "stream",
          "name": "stdout",
          "text": [
            "실제 검증 - 테스트 데이터 사이의 분산 차 : 0.008107566294233027\n"
          ]
        }
      ]
    },
    {
      "cell_type": "code",
      "source": [
        "from statsmodels.stats.power import TTestIndPower\n",
        "# 검증하고 싶은 차이\n",
        "effect = 0.008\n",
        "# 유의 수준\n",
        "alpha = 0.05\n",
        "# 샘플 수\n",
        "nobs1 = 30\n",
        "# 검정력\n",
        "power = 0.8\n",
        "\n",
        "analysis = TTestIndPower()\n",
        "Power = analysis.solve_power(effect, nobs1=nobs1, ratio=1.0, alpha=alpha)\n",
        "N_size = analysis.solve_power(effect, power=power, alpha=alpha)\n",
        "\n",
        "print(f\"검정력 : {Power} / 필요 표본의 크기 : {N_size}\")"
      ],
      "metadata": {
        "colab": {
          "base_uri": "https://localhost:8080/"
        },
        "id": "H35SAmL1XBCH",
        "outputId": "59dfab32-ee1c-4efd-c20d-c55703cc1871"
      },
      "execution_count": null,
      "outputs": [
        {
          "output_type": "stream",
          "name": "stdout",
          "text": [
            "검정력 : 0.050106387789232286 / 필요 표본의 크기 : 245277.85128585636\n"
          ]
        },
        {
          "output_type": "stream",
          "name": "stderr",
          "text": [
            "/usr/local/lib/python3.9/dist-packages/scipy/stats/_continuous_distns.py:6832: RuntimeWarning: invalid value encountered in _nct_sf\n",
            "  return np.clip(_boost._nct_sf(x, df, nc), 0, 1)\n",
            "/usr/local/lib/python3.9/dist-packages/scipy/stats/_continuous_distns.py:6826: RuntimeWarning: invalid value encountered in _nct_cdf\n",
            "  return np.clip(_boost._nct_cdf(x, df, nc), 0, 1)\n"
          ]
        }
      ]
    },
    {
      "cell_type": "markdown",
      "source": [
        "- `검정력`이 낮기 때문에, 모든 Epoch에서의 p-value를 확인해 보완\n",
        "- 모든 Epoch에서 p - value는 `0.05` 보다 작기 때문에 `0.05`의 유의 수준에서 $H_0$를 기각하는 것이 더 타당하다고 생각\n",
        "- 이를 통해 `검증`, `테스트 데이터` 각각으로 인한 `Loss`의 `모 분산`이 `다르다`고 판단"
      ],
      "metadata": {
        "id": "vhzXUr6HWyWw"
      }
    },
    {
      "cell_type": "code",
      "source": [
        "from scipy.stats import bartlett\n",
        "\n",
        "for i in range(10):\n",
        "  print(f\"{i} Epoch 결과 : {bartlett(eval_df.loc[i].loss, test_df.loc[i].loss)}\")"
      ],
      "metadata": {
        "colab": {
          "base_uri": "https://localhost:8080/"
        },
        "id": "T0_XMYcc2aGJ",
        "outputId": "276a0994-f131-4611-a3da-5e18bb775c74"
      },
      "execution_count": null,
      "outputs": [
        {
          "output_type": "stream",
          "name": "stdout",
          "text": [
            "0 Epoch 결과 : BartlettResult(statistic=11.475177634446133, pvalue=0.000705319056158657)\n",
            "1 Epoch 결과 : BartlettResult(statistic=8.021375559302411, pvalue=0.0046228445576720276)\n",
            "2 Epoch 결과 : BartlettResult(statistic=7.387953633444144, pvalue=0.006566215166491599)\n",
            "3 Epoch 결과 : BartlettResult(statistic=5.839411368740212, pvalue=0.015671068471172698)\n",
            "4 Epoch 결과 : BartlettResult(statistic=5.13199679221258, pvalue=0.023488690600947375)\n",
            "5 Epoch 결과 : BartlettResult(statistic=6.072235798383919, pvalue=0.013732302781695932)\n",
            "6 Epoch 결과 : BartlettResult(statistic=4.475589015466261, pvalue=0.034382349442549184)\n",
            "7 Epoch 결과 : BartlettResult(statistic=6.197548240128902, pvalue=0.012792740054553985)\n",
            "8 Epoch 결과 : BartlettResult(statistic=5.902597723780315, pvalue=0.015118570727809283)\n",
            "9 Epoch 결과 : BartlettResult(statistic=6.168044574022197, pvalue=0.013007830895216111)\n"
          ]
        }
      ]
    },
    {
      "cell_type": "markdown",
      "source": [
        "#### T - 검정 실시\n",
        "- 2 sample T - test\n",
        "  - $H0$ : `두 집단의 모 평균은 차이가 없다.`"
      ],
      "metadata": {
        "id": "kjQqZkcq8Rah"
      }
    },
    {
      "cell_type": "markdown",
      "source": [
        "- 다만 검증할 Loss의 평균 차이가 작아, 높은 검정력까진 확보 불가\n",
        "- 실제로 0.2의 차이를 80%의 검정력으로 확인하려면 표본의 크기는 `393`이 돼야 함\n",
        "- 현재 표본 크기에서의 검정력은 `11`% 정도"
      ],
      "metadata": {
        "id": "FSPS--6lc7wJ"
      }
    },
    {
      "cell_type": "code",
      "source": [
        "eval_df"
      ],
      "metadata": {
        "colab": {
          "base_uri": "https://localhost:8080/",
          "height": 363
        },
        "id": "-r2k2un0HKeU",
        "outputId": "b841d340-2449-437d-dbc5-352d029cc7c3"
      },
      "execution_count": null,
      "outputs": [
        {
          "output_type": "execute_result",
          "data": {
            "text/plain": [
              "   index  epoch   pearson                                               loss  \\\n",
              "0      0      1  0.973424  [0.1628936529159546, 0.2335672825574875, 0.260...   \n",
              "1      1      2  0.974594  [0.16736622154712677, 0.2483328878879547, 0.28...   \n",
              "2      2      3  0.975597  [0.10536278784275055, 0.18684439361095428, 0.1...   \n",
              "3      3      4  0.976463  [0.13914942741394043, 0.20487816631793976, 0.2...   \n",
              "4      4      5  0.976284  [0.1454591155052185, 0.19675865769386292, 0.23...   \n",
              "5      5      6  0.976192  [0.10866416990756989, 0.20186740159988403, 0.2...   \n",
              "6      6      7  0.976433  [0.12176549434661865, 0.20022456347942352, 0.1...   \n",
              "7      7      8  0.976974  [0.11449621617794037, 0.1944740265607834, 0.19...   \n",
              "8      8      9  0.976712  [0.10767045617103577, 0.19782310724258423, 0.1...   \n",
              "9      9     10  0.976726  [0.1192220151424408, 0.21426250040531158, 0.20...   \n",
              "\n",
              "   loss_mean  loss_std  loss_var  \n",
              "0   0.262899  0.077844  0.006060  \n",
              "1   0.268821  0.095571  0.009134  \n",
              "2   0.191820  0.073116  0.005346  \n",
              "3   0.223031  0.080223  0.006436  \n",
              "4   0.232158  0.078116  0.006102  \n",
              "5   0.207912  0.072038  0.005189  \n",
              "6   0.218589  0.076656  0.005876  \n",
              "7   0.214656  0.074278  0.005517  \n",
              "8   0.209411  0.071608  0.005128  \n",
              "9   0.223547  0.075217  0.005658  "
            ],
            "text/html": [
              "\n",
              "  <div id=\"df-1e6ac90b-ad32-49c3-a7f2-5e0693181d0e\">\n",
              "    <div class=\"colab-df-container\">\n",
              "      <div>\n",
              "<style scoped>\n",
              "    .dataframe tbody tr th:only-of-type {\n",
              "        vertical-align: middle;\n",
              "    }\n",
              "\n",
              "    .dataframe tbody tr th {\n",
              "        vertical-align: top;\n",
              "    }\n",
              "\n",
              "    .dataframe thead th {\n",
              "        text-align: right;\n",
              "    }\n",
              "</style>\n",
              "<table border=\"1\" class=\"dataframe\">\n",
              "  <thead>\n",
              "    <tr style=\"text-align: right;\">\n",
              "      <th></th>\n",
              "      <th>index</th>\n",
              "      <th>epoch</th>\n",
              "      <th>pearson</th>\n",
              "      <th>loss</th>\n",
              "      <th>loss_mean</th>\n",
              "      <th>loss_std</th>\n",
              "      <th>loss_var</th>\n",
              "    </tr>\n",
              "  </thead>\n",
              "  <tbody>\n",
              "    <tr>\n",
              "      <th>0</th>\n",
              "      <td>0</td>\n",
              "      <td>1</td>\n",
              "      <td>0.973424</td>\n",
              "      <td>[0.1628936529159546, 0.2335672825574875, 0.260...</td>\n",
              "      <td>0.262899</td>\n",
              "      <td>0.077844</td>\n",
              "      <td>0.006060</td>\n",
              "    </tr>\n",
              "    <tr>\n",
              "      <th>1</th>\n",
              "      <td>1</td>\n",
              "      <td>2</td>\n",
              "      <td>0.974594</td>\n",
              "      <td>[0.16736622154712677, 0.2483328878879547, 0.28...</td>\n",
              "      <td>0.268821</td>\n",
              "      <td>0.095571</td>\n",
              "      <td>0.009134</td>\n",
              "    </tr>\n",
              "    <tr>\n",
              "      <th>2</th>\n",
              "      <td>2</td>\n",
              "      <td>3</td>\n",
              "      <td>0.975597</td>\n",
              "      <td>[0.10536278784275055, 0.18684439361095428, 0.1...</td>\n",
              "      <td>0.191820</td>\n",
              "      <td>0.073116</td>\n",
              "      <td>0.005346</td>\n",
              "    </tr>\n",
              "    <tr>\n",
              "      <th>3</th>\n",
              "      <td>3</td>\n",
              "      <td>4</td>\n",
              "      <td>0.976463</td>\n",
              "      <td>[0.13914942741394043, 0.20487816631793976, 0.2...</td>\n",
              "      <td>0.223031</td>\n",
              "      <td>0.080223</td>\n",
              "      <td>0.006436</td>\n",
              "    </tr>\n",
              "    <tr>\n",
              "      <th>4</th>\n",
              "      <td>4</td>\n",
              "      <td>5</td>\n",
              "      <td>0.976284</td>\n",
              "      <td>[0.1454591155052185, 0.19675865769386292, 0.23...</td>\n",
              "      <td>0.232158</td>\n",
              "      <td>0.078116</td>\n",
              "      <td>0.006102</td>\n",
              "    </tr>\n",
              "    <tr>\n",
              "      <th>5</th>\n",
              "      <td>5</td>\n",
              "      <td>6</td>\n",
              "      <td>0.976192</td>\n",
              "      <td>[0.10866416990756989, 0.20186740159988403, 0.2...</td>\n",
              "      <td>0.207912</td>\n",
              "      <td>0.072038</td>\n",
              "      <td>0.005189</td>\n",
              "    </tr>\n",
              "    <tr>\n",
              "      <th>6</th>\n",
              "      <td>6</td>\n",
              "      <td>7</td>\n",
              "      <td>0.976433</td>\n",
              "      <td>[0.12176549434661865, 0.20022456347942352, 0.1...</td>\n",
              "      <td>0.218589</td>\n",
              "      <td>0.076656</td>\n",
              "      <td>0.005876</td>\n",
              "    </tr>\n",
              "    <tr>\n",
              "      <th>7</th>\n",
              "      <td>7</td>\n",
              "      <td>8</td>\n",
              "      <td>0.976974</td>\n",
              "      <td>[0.11449621617794037, 0.1944740265607834, 0.19...</td>\n",
              "      <td>0.214656</td>\n",
              "      <td>0.074278</td>\n",
              "      <td>0.005517</td>\n",
              "    </tr>\n",
              "    <tr>\n",
              "      <th>8</th>\n",
              "      <td>8</td>\n",
              "      <td>9</td>\n",
              "      <td>0.976712</td>\n",
              "      <td>[0.10767045617103577, 0.19782310724258423, 0.1...</td>\n",
              "      <td>0.209411</td>\n",
              "      <td>0.071608</td>\n",
              "      <td>0.005128</td>\n",
              "    </tr>\n",
              "    <tr>\n",
              "      <th>9</th>\n",
              "      <td>9</td>\n",
              "      <td>10</td>\n",
              "      <td>0.976726</td>\n",
              "      <td>[0.1192220151424408, 0.21426250040531158, 0.20...</td>\n",
              "      <td>0.223547</td>\n",
              "      <td>0.075217</td>\n",
              "      <td>0.005658</td>\n",
              "    </tr>\n",
              "  </tbody>\n",
              "</table>\n",
              "</div>\n",
              "      <button class=\"colab-df-convert\" onclick=\"convertToInteractive('df-1e6ac90b-ad32-49c3-a7f2-5e0693181d0e')\"\n",
              "              title=\"Convert this dataframe to an interactive table.\"\n",
              "              style=\"display:none;\">\n",
              "        \n",
              "  <svg xmlns=\"http://www.w3.org/2000/svg\" height=\"24px\"viewBox=\"0 0 24 24\"\n",
              "       width=\"24px\">\n",
              "    <path d=\"M0 0h24v24H0V0z\" fill=\"none\"/>\n",
              "    <path d=\"M18.56 5.44l.94 2.06.94-2.06 2.06-.94-2.06-.94-.94-2.06-.94 2.06-2.06.94zm-11 1L8.5 8.5l.94-2.06 2.06-.94-2.06-.94L8.5 2.5l-.94 2.06-2.06.94zm10 10l.94 2.06.94-2.06 2.06-.94-2.06-.94-.94-2.06-.94 2.06-2.06.94z\"/><path d=\"M17.41 7.96l-1.37-1.37c-.4-.4-.92-.59-1.43-.59-.52 0-1.04.2-1.43.59L10.3 9.45l-7.72 7.72c-.78.78-.78 2.05 0 2.83L4 21.41c.39.39.9.59 1.41.59.51 0 1.02-.2 1.41-.59l7.78-7.78 2.81-2.81c.8-.78.8-2.07 0-2.86zM5.41 20L4 18.59l7.72-7.72 1.47 1.35L5.41 20z\"/>\n",
              "  </svg>\n",
              "      </button>\n",
              "      \n",
              "  <style>\n",
              "    .colab-df-container {\n",
              "      display:flex;\n",
              "      flex-wrap:wrap;\n",
              "      gap: 12px;\n",
              "    }\n",
              "\n",
              "    .colab-df-convert {\n",
              "      background-color: #E8F0FE;\n",
              "      border: none;\n",
              "      border-radius: 50%;\n",
              "      cursor: pointer;\n",
              "      display: none;\n",
              "      fill: #1967D2;\n",
              "      height: 32px;\n",
              "      padding: 0 0 0 0;\n",
              "      width: 32px;\n",
              "    }\n",
              "\n",
              "    .colab-df-convert:hover {\n",
              "      background-color: #E2EBFA;\n",
              "      box-shadow: 0px 1px 2px rgba(60, 64, 67, 0.3), 0px 1px 3px 1px rgba(60, 64, 67, 0.15);\n",
              "      fill: #174EA6;\n",
              "    }\n",
              "\n",
              "    [theme=dark] .colab-df-convert {\n",
              "      background-color: #3B4455;\n",
              "      fill: #D2E3FC;\n",
              "    }\n",
              "\n",
              "    [theme=dark] .colab-df-convert:hover {\n",
              "      background-color: #434B5C;\n",
              "      box-shadow: 0px 1px 3px 1px rgba(0, 0, 0, 0.15);\n",
              "      filter: drop-shadow(0px 1px 2px rgba(0, 0, 0, 0.3));\n",
              "      fill: #FFFFFF;\n",
              "    }\n",
              "  </style>\n",
              "\n",
              "      <script>\n",
              "        const buttonEl =\n",
              "          document.querySelector('#df-1e6ac90b-ad32-49c3-a7f2-5e0693181d0e button.colab-df-convert');\n",
              "        buttonEl.style.display =\n",
              "          google.colab.kernel.accessAllowed ? 'block' : 'none';\n",
              "\n",
              "        async function convertToInteractive(key) {\n",
              "          const element = document.querySelector('#df-1e6ac90b-ad32-49c3-a7f2-5e0693181d0e');\n",
              "          const dataTable =\n",
              "            await google.colab.kernel.invokeFunction('convertToInteractive',\n",
              "                                                     [key], {});\n",
              "          if (!dataTable) return;\n",
              "\n",
              "          const docLinkHtml = 'Like what you see? Visit the ' +\n",
              "            '<a target=\"_blank\" href=https://colab.research.google.com/notebooks/data_table.ipynb>data table notebook</a>'\n",
              "            + ' to learn more about interactive tables.';\n",
              "          element.innerHTML = '';\n",
              "          dataTable['output_type'] = 'display_data';\n",
              "          await google.colab.output.renderOutput(dataTable, element);\n",
              "          const docLink = document.createElement('div');\n",
              "          docLink.innerHTML = docLinkHtml;\n",
              "          element.appendChild(docLink);\n",
              "        }\n",
              "      </script>\n",
              "    </div>\n",
              "  </div>\n",
              "  "
            ]
          },
          "metadata": {},
          "execution_count": 13
        }
      ]
    },
    {
      "cell_type": "code",
      "source": [
        "test_df"
      ],
      "metadata": {
        "colab": {
          "base_uri": "https://localhost:8080/",
          "height": 363
        },
        "id": "38WpVxH7HMFg",
        "outputId": "2a429e35-97d8-47fa-dce9-ae74d2404ea5"
      },
      "execution_count": null,
      "outputs": [
        {
          "output_type": "execute_result",
          "data": {
            "text/plain": [
              "   index  epoch   pearson                                               loss  \\\n",
              "0     10      1  0.918497  [0.3649213910102844, 0.8419622182846069, 0.551...   \n",
              "1     11      2  0.918168  [0.3656904399394989, 0.903342604637146, 0.6311...   \n",
              "2     12      3  0.922898  [0.24295754730701447, 0.7288406491279602, 0.48...   \n",
              "3     13      4  0.920449  [0.29014143347740173, 0.7694106698036194, 0.52...   \n",
              "4     14      5  0.927175  [0.29248279333114624, 0.6899402737617493, 0.44...   \n",
              "5     15      6  0.925365  [0.2539677619934082, 0.6782565116882324, 0.480...   \n",
              "6     16      7  0.925380  [0.24957527220249176, 0.6911751627922058, 0.51...   \n",
              "7     17      8  0.924786  [0.25586172938346863, 0.7257125973701477, 0.51...   \n",
              "8     18      9  0.926897  [0.26486095786094666, 0.6923551559448242, 0.48...   \n",
              "9     19     10  0.925795  [0.28180748224258423, 0.7332982420921326, 0.51...   \n",
              "\n",
              "   loss_mean  loss_std  loss_var  \n",
              "0   0.442762  0.137675  0.018954  \n",
              "1   0.485198  0.154480  0.023864  \n",
              "2   0.395952  0.115989  0.013453  \n",
              "3   0.439579  0.121054  0.014654  \n",
              "4   0.368591  0.114925  0.013208  \n",
              "5   0.377511  0.109572  0.012006  \n",
              "6   0.394032  0.109959  0.012091  \n",
              "7   0.401844  0.113457  0.012873  \n",
              "8   0.382899  0.108291  0.011727  \n",
              "9   0.411192  0.114778  0.013174  "
            ],
            "text/html": [
              "\n",
              "  <div id=\"df-fd1bc451-3b56-4dcb-afc3-feed4be4c92d\">\n",
              "    <div class=\"colab-df-container\">\n",
              "      <div>\n",
              "<style scoped>\n",
              "    .dataframe tbody tr th:only-of-type {\n",
              "        vertical-align: middle;\n",
              "    }\n",
              "\n",
              "    .dataframe tbody tr th {\n",
              "        vertical-align: top;\n",
              "    }\n",
              "\n",
              "    .dataframe thead th {\n",
              "        text-align: right;\n",
              "    }\n",
              "</style>\n",
              "<table border=\"1\" class=\"dataframe\">\n",
              "  <thead>\n",
              "    <tr style=\"text-align: right;\">\n",
              "      <th></th>\n",
              "      <th>index</th>\n",
              "      <th>epoch</th>\n",
              "      <th>pearson</th>\n",
              "      <th>loss</th>\n",
              "      <th>loss_mean</th>\n",
              "      <th>loss_std</th>\n",
              "      <th>loss_var</th>\n",
              "    </tr>\n",
              "  </thead>\n",
              "  <tbody>\n",
              "    <tr>\n",
              "      <th>0</th>\n",
              "      <td>10</td>\n",
              "      <td>1</td>\n",
              "      <td>0.918497</td>\n",
              "      <td>[0.3649213910102844, 0.8419622182846069, 0.551...</td>\n",
              "      <td>0.442762</td>\n",
              "      <td>0.137675</td>\n",
              "      <td>0.018954</td>\n",
              "    </tr>\n",
              "    <tr>\n",
              "      <th>1</th>\n",
              "      <td>11</td>\n",
              "      <td>2</td>\n",
              "      <td>0.918168</td>\n",
              "      <td>[0.3656904399394989, 0.903342604637146, 0.6311...</td>\n",
              "      <td>0.485198</td>\n",
              "      <td>0.154480</td>\n",
              "      <td>0.023864</td>\n",
              "    </tr>\n",
              "    <tr>\n",
              "      <th>2</th>\n",
              "      <td>12</td>\n",
              "      <td>3</td>\n",
              "      <td>0.922898</td>\n",
              "      <td>[0.24295754730701447, 0.7288406491279602, 0.48...</td>\n",
              "      <td>0.395952</td>\n",
              "      <td>0.115989</td>\n",
              "      <td>0.013453</td>\n",
              "    </tr>\n",
              "    <tr>\n",
              "      <th>3</th>\n",
              "      <td>13</td>\n",
              "      <td>4</td>\n",
              "      <td>0.920449</td>\n",
              "      <td>[0.29014143347740173, 0.7694106698036194, 0.52...</td>\n",
              "      <td>0.439579</td>\n",
              "      <td>0.121054</td>\n",
              "      <td>0.014654</td>\n",
              "    </tr>\n",
              "    <tr>\n",
              "      <th>4</th>\n",
              "      <td>14</td>\n",
              "      <td>5</td>\n",
              "      <td>0.927175</td>\n",
              "      <td>[0.29248279333114624, 0.6899402737617493, 0.44...</td>\n",
              "      <td>0.368591</td>\n",
              "      <td>0.114925</td>\n",
              "      <td>0.013208</td>\n",
              "    </tr>\n",
              "    <tr>\n",
              "      <th>5</th>\n",
              "      <td>15</td>\n",
              "      <td>6</td>\n",
              "      <td>0.925365</td>\n",
              "      <td>[0.2539677619934082, 0.6782565116882324, 0.480...</td>\n",
              "      <td>0.377511</td>\n",
              "      <td>0.109572</td>\n",
              "      <td>0.012006</td>\n",
              "    </tr>\n",
              "    <tr>\n",
              "      <th>6</th>\n",
              "      <td>16</td>\n",
              "      <td>7</td>\n",
              "      <td>0.925380</td>\n",
              "      <td>[0.24957527220249176, 0.6911751627922058, 0.51...</td>\n",
              "      <td>0.394032</td>\n",
              "      <td>0.109959</td>\n",
              "      <td>0.012091</td>\n",
              "    </tr>\n",
              "    <tr>\n",
              "      <th>7</th>\n",
              "      <td>17</td>\n",
              "      <td>8</td>\n",
              "      <td>0.924786</td>\n",
              "      <td>[0.25586172938346863, 0.7257125973701477, 0.51...</td>\n",
              "      <td>0.401844</td>\n",
              "      <td>0.113457</td>\n",
              "      <td>0.012873</td>\n",
              "    </tr>\n",
              "    <tr>\n",
              "      <th>8</th>\n",
              "      <td>18</td>\n",
              "      <td>9</td>\n",
              "      <td>0.926897</td>\n",
              "      <td>[0.26486095786094666, 0.6923551559448242, 0.48...</td>\n",
              "      <td>0.382899</td>\n",
              "      <td>0.108291</td>\n",
              "      <td>0.011727</td>\n",
              "    </tr>\n",
              "    <tr>\n",
              "      <th>9</th>\n",
              "      <td>19</td>\n",
              "      <td>10</td>\n",
              "      <td>0.925795</td>\n",
              "      <td>[0.28180748224258423, 0.7332982420921326, 0.51...</td>\n",
              "      <td>0.411192</td>\n",
              "      <td>0.114778</td>\n",
              "      <td>0.013174</td>\n",
              "    </tr>\n",
              "  </tbody>\n",
              "</table>\n",
              "</div>\n",
              "      <button class=\"colab-df-convert\" onclick=\"convertToInteractive('df-fd1bc451-3b56-4dcb-afc3-feed4be4c92d')\"\n",
              "              title=\"Convert this dataframe to an interactive table.\"\n",
              "              style=\"display:none;\">\n",
              "        \n",
              "  <svg xmlns=\"http://www.w3.org/2000/svg\" height=\"24px\"viewBox=\"0 0 24 24\"\n",
              "       width=\"24px\">\n",
              "    <path d=\"M0 0h24v24H0V0z\" fill=\"none\"/>\n",
              "    <path d=\"M18.56 5.44l.94 2.06.94-2.06 2.06-.94-2.06-.94-.94-2.06-.94 2.06-2.06.94zm-11 1L8.5 8.5l.94-2.06 2.06-.94-2.06-.94L8.5 2.5l-.94 2.06-2.06.94zm10 10l.94 2.06.94-2.06 2.06-.94-2.06-.94-.94-2.06-.94 2.06-2.06.94z\"/><path d=\"M17.41 7.96l-1.37-1.37c-.4-.4-.92-.59-1.43-.59-.52 0-1.04.2-1.43.59L10.3 9.45l-7.72 7.72c-.78.78-.78 2.05 0 2.83L4 21.41c.39.39.9.59 1.41.59.51 0 1.02-.2 1.41-.59l7.78-7.78 2.81-2.81c.8-.78.8-2.07 0-2.86zM5.41 20L4 18.59l7.72-7.72 1.47 1.35L5.41 20z\"/>\n",
              "  </svg>\n",
              "      </button>\n",
              "      \n",
              "  <style>\n",
              "    .colab-df-container {\n",
              "      display:flex;\n",
              "      flex-wrap:wrap;\n",
              "      gap: 12px;\n",
              "    }\n",
              "\n",
              "    .colab-df-convert {\n",
              "      background-color: #E8F0FE;\n",
              "      border: none;\n",
              "      border-radius: 50%;\n",
              "      cursor: pointer;\n",
              "      display: none;\n",
              "      fill: #1967D2;\n",
              "      height: 32px;\n",
              "      padding: 0 0 0 0;\n",
              "      width: 32px;\n",
              "    }\n",
              "\n",
              "    .colab-df-convert:hover {\n",
              "      background-color: #E2EBFA;\n",
              "      box-shadow: 0px 1px 2px rgba(60, 64, 67, 0.3), 0px 1px 3px 1px rgba(60, 64, 67, 0.15);\n",
              "      fill: #174EA6;\n",
              "    }\n",
              "\n",
              "    [theme=dark] .colab-df-convert {\n",
              "      background-color: #3B4455;\n",
              "      fill: #D2E3FC;\n",
              "    }\n",
              "\n",
              "    [theme=dark] .colab-df-convert:hover {\n",
              "      background-color: #434B5C;\n",
              "      box-shadow: 0px 1px 3px 1px rgba(0, 0, 0, 0.15);\n",
              "      filter: drop-shadow(0px 1px 2px rgba(0, 0, 0, 0.3));\n",
              "      fill: #FFFFFF;\n",
              "    }\n",
              "  </style>\n",
              "\n",
              "      <script>\n",
              "        const buttonEl =\n",
              "          document.querySelector('#df-fd1bc451-3b56-4dcb-afc3-feed4be4c92d button.colab-df-convert');\n",
              "        buttonEl.style.display =\n",
              "          google.colab.kernel.accessAllowed ? 'block' : 'none';\n",
              "\n",
              "        async function convertToInteractive(key) {\n",
              "          const element = document.querySelector('#df-fd1bc451-3b56-4dcb-afc3-feed4be4c92d');\n",
              "          const dataTable =\n",
              "            await google.colab.kernel.invokeFunction('convertToInteractive',\n",
              "                                                     [key], {});\n",
              "          if (!dataTable) return;\n",
              "\n",
              "          const docLinkHtml = 'Like what you see? Visit the ' +\n",
              "            '<a target=\"_blank\" href=https://colab.research.google.com/notebooks/data_table.ipynb>data table notebook</a>'\n",
              "            + ' to learn more about interactive tables.';\n",
              "          element.innerHTML = '';\n",
              "          dataTable['output_type'] = 'display_data';\n",
              "          await google.colab.output.renderOutput(dataTable, element);\n",
              "          const docLink = document.createElement('div');\n",
              "          docLink.innerHTML = docLinkHtml;\n",
              "          element.appendChild(docLink);\n",
              "        }\n",
              "      </script>\n",
              "    </div>\n",
              "  </div>\n",
              "  "
            ]
          },
          "metadata": {},
          "execution_count": 14
        }
      ]
    },
    {
      "cell_type": "code",
      "source": [
        "print(f\"실제 검증 - 테스트 데이터 사이의 평균 차 : {abs(eval_df.loc[2].loss_mean - test_df.loc[2].loss_mean)}\")"
      ],
      "metadata": {
        "colab": {
          "base_uri": "https://localhost:8080/"
        },
        "id": "ntCx8c9CcV2Y",
        "outputId": "20a20bb4-d2db-4b54-cffc-ec1045efbeb2"
      },
      "execution_count": null,
      "outputs": [
        {
          "output_type": "stream",
          "name": "stdout",
          "text": [
            "실제 검증 - 테스트 데이터 사이의 평균 차 : 0.20413222478103604\n"
          ]
        }
      ]
    },
    {
      "cell_type": "code",
      "source": [
        "from statsmodels.stats.power import TTestIndPower\n",
        "# 검증하고 싶은 차이\n",
        "effect = 0.2\n",
        "# 유의 수준\n",
        "alpha = 0.05\n",
        "# 샘플 수\n",
        "nobs1 = 30\n",
        "# 검정력\n",
        "power = 0.8\n",
        "\n",
        "analysis = TTestIndPower()\n",
        "Power = analysis.solve_power(effect, nobs1=nobs1, ratio=1.0, alpha=alpha)\n",
        "N_size = analysis.solve_power(effect, power=power, alpha=alpha)\n",
        "\n",
        "print(f\"검정력 : {Power} / 필요 표본의 크기 : {N_size}\")"
      ],
      "metadata": {
        "colab": {
          "base_uri": "https://localhost:8080/"
        },
        "id": "-Rh6k_IPccPU",
        "outputId": "cc6b32b7-be5a-474c-8597-c939baa0a930"
      },
      "execution_count": null,
      "outputs": [
        {
          "output_type": "stream",
          "name": "stdout",
          "text": [
            "검정력 : 0.1186794357860223 / 필요 표본의 크기 : 393.4056930002516\n"
          ]
        }
      ]
    },
    {
      "cell_type": "markdown",
      "source": [
        "- 검정력이 낮기 때문에, 모든 Epoch에서의 p-value를 확인해 보완\n",
        "- 모든 Epoch에서 p - value는 0.05 보다 작아  H0 를 기각하는 것이 더 타당하다고 생각\n",
        "- 이를 통해 `검증`, `테스트 데이터` 각각으로 인한 `Loss`의 `모 평균`이 다르다고 판단"
      ],
      "metadata": {
        "id": "lIERVeYJdRX8"
      }
    },
    {
      "cell_type": "code",
      "source": [
        "from scipy.stats import ttest_ind\n",
        "\n",
        "for i in range(10):\n",
        "  t, p = ttest_ind(eval_df.loc[i].loss, test_df.loc[i].loss, equal_var = False) # 등분산 X\n",
        "  print(f\"Epoch {i + 1} 결과 | T값 : {t}, p-value : {p}\")"
      ],
      "metadata": {
        "colab": {
          "base_uri": "https://localhost:8080/"
        },
        "id": "tcGQmrrOZFRE",
        "outputId": "9b1a2429-f6dc-43e3-9114-7b65f421f73b"
      },
      "execution_count": null,
      "outputs": [
        {
          "output_type": "stream",
          "name": "stdout",
          "text": [
            "Epoch 1 결과 | T값 : -5.058278774193652, p-value : 7.910949210977729e-05\n",
            "Epoch 2 결과 | T값 : -5.389783464066954, p-value : 3.566019768619025e-05\n",
            "Epoch 3 결과 | T값 : -6.762523773175123, p-value : 1.975012953254362e-06\n",
            "Epoch 4 결과 | T값 : -6.845905368051473, p-value : 1.534731259523019e-06\n",
            "Epoch 5 결과 | T값 : -4.533237048835244, p-value : 0.0002213582403383432\n",
            "Epoch 6 결과 | T값 : -5.927518939068657, p-value : 1.0450786503781265e-05\n",
            "Epoch 7 결과 | T값 : -6.078713572524376, p-value : 6.9506183431497615e-06\n",
            "Epoch 8 결과 | T값 : -6.320433902542425, p-value : 4.5945557882716224e-06\n",
            "Epoch 9 결과 | T값 : -6.132226778426269, p-value : 6.715541664861715e-06\n",
            "Epoch 10 결과 | T값 : -6.262438275902454, p-value : 5.177343535101332e-06\n"
          ]
        }
      ]
    },
    {
      "cell_type": "markdown",
      "source": [
        "### 4) 결론"
      ],
      "metadata": {
        "id": "I4ghIvI6eYFj"
      }
    },
    {
      "cell_type": "markdown",
      "source": [
        "![image](https://user-images.githubusercontent.com/86637320/227254019-7d38a4a6-54b6-43c3-b0ff-bdbbba9bcf03.png)"
      ],
      "metadata": {
        "id": "0CSvto4BGbDJ"
      }
    },
    {
      "cell_type": "markdown",
      "source": [
        "- `검증`, `테스트` 데이터에 대한 학습 양상과 T 검정 결과 모두 \n",
        "- `검증`, `테스트`로 얻을 수 있는 모델 Loss의 분포가 다름을 의미함\n",
        "- 이는 `검증` 데이터를 활용한 하이퍼 파라미터 튜닝이, `테스트` 데이터에서의 성능 향상으로 이어지지 않을 것이라고 보는 것이 타당 함\n",
        "\n",
        "- `※ 추가 개선 고려 사항 ※`\n",
        "  - 모집단의 분포와 무관하게, 표본 평균의 분포가 정규 분포를 따를 수 있도록 표본의 크기(Sample Size)`N`을 30으로 설정해서 검정을 진행했다.\n",
        "  - 이때의 표본의 개수(Number of samples)는 `테스트` 데이터 기준 `17`개, `검증` 데이터 기준 : `66`개 정도로, 이상치에 의해 잘못된 결론을 얻었을 수도 있음\n",
        "  - 이 경우, 표본의 크기를 줄이고, 그에 따라 표본의 개수를 늘린 다음 `비모수 검정`을 하는 것도 고려해볼 수 있음"
      ],
      "metadata": {
        "id": "zBhEWv2QeZyM"
      }
    },
    {
      "cell_type": "markdown",
      "source": [
        "## B. Augmented Data를 활용한 검증 확인"
      ],
      "metadata": {
        "id": "5dGrChxawGKS"
      }
    },
    {
      "cell_type": "markdown",
      "source": [
        "- `검증, 테스트 데이터에 대한 모델 Loss 차이가 없다`는 귀무 가설 하, 가설 검정 실시\n",
        "  - 검증, 테스트 데이터에 대한 평균 Loss 비교를 통해, 검증 데이터 개선 시 예측 성능 향상을 기대할 수 있는 지 확인하기 위함"
      ],
      "metadata": {
        "id": "xkAipCjc-nmM"
      }
    },
    {
      "cell_type": "markdown",
      "source": [
        "- 데이터 불러오기\n",
        "  - [klue-sts-valid.csv](https://github.com/woodywarhol9/wanted-pre-onboarding/blob/main/%EA%B8%B0%EC%97%85%EA%B3%BC%EC%A0%9C/%EA%B8%B0%EC%97%85%EA%B3%BC%EC%A0%9C3/data/klue-sts-valid.csv) : `SBERT`를 활용한 Data Augmentation으로 새로 생성한 `검증` 데이터 \n",
        "  - [klue-sts-test.csv](https://github.com/woodywarhol9/wanted-pre-onboarding/blob/main/%EA%B8%B0%EC%97%85%EA%B3%BC%EC%A0%9C/%EA%B8%B0%EC%97%85%EA%B3%BC%EC%A0%9C3/data/klue-sts-test.csv) : 기존 `테스트` 데이터"
      ],
      "metadata": {
        "id": "idIlnvbtNSFi"
      }
    },
    {
      "cell_type": "code",
      "source": [
        "import pandas as pd\n",
        "\n",
        "valid_data = pd.read_csv(\"/content/klue-sts-valid.csv\")\n",
        "test_data = pd.read_csv(\"/content/klue-sts-test.csv\")"
      ],
      "metadata": {
        "id": "LV86vandNLSW"
      },
      "execution_count": null,
      "outputs": []
    },
    {
      "cell_type": "markdown",
      "source": [
        "- `검증` 데이터의 Label 분포 확인"
      ],
      "metadata": {
        "id": "yfRoadX8-hj-"
      }
    },
    {
      "cell_type": "code",
      "source": [
        "import seaborn as sns\n",
        "\n",
        "sns.distplot(valid_data['real_label'])"
      ],
      "metadata": {
        "id": "XBASvGyzNNaW",
        "colab": {
          "base_uri": "https://localhost:8080/",
          "height": 501
        },
        "outputId": "4e099764-435f-4ed3-a7fc-e0147d4c9dc6"
      },
      "execution_count": null,
      "outputs": [
        {
          "output_type": "stream",
          "name": "stderr",
          "text": [
            "<ipython-input-17-a59ea70e1ea8>:3: UserWarning: \n",
            "\n",
            "`distplot` is a deprecated function and will be removed in seaborn v0.14.0.\n",
            "\n",
            "Please adapt your code to use either `displot` (a figure-level function with\n",
            "similar flexibility) or `histplot` (an axes-level function for histograms).\n",
            "\n",
            "For a guide to updating your code to use the new functions, please see\n",
            "https://gist.github.com/mwaskom/de44147ed2974457ad6372750bbe5751\n",
            "\n",
            "  sns.distplot(valid_data['real_label'])\n"
          ]
        },
        {
          "output_type": "execute_result",
          "data": {
            "text/plain": [
              "<Axes: xlabel='real_label', ylabel='Density'>"
            ]
          },
          "metadata": {},
          "execution_count": 17
        },
        {
          "output_type": "display_data",
          "data": {
            "text/plain": [
              "<Figure size 432x288 with 1 Axes>"
            ],
            "image/png": "[encoded data removed]"
          },
          "metadata": {
            "needs_background": "light"
          }
        }
      ]
    },
    {
      "cell_type": "markdown",
      "source": [
        "### 1) Loss를 추출하기 위해, 학습된 모델 불러와서 재 예측\n",
        "- 기존에 저장한 1개의 모델에 대해 확인 진행\n",
        "- 모델의 하이퍼 파라미터\n",
        "  - `eps` : 1e-8\n",
        "  - `grad_norm` 1\n",
        "  - `lr` 3e-5\n",
        "  - `max_length` 128\n",
        "  - `train_batch_size` 32\n",
        "  - `linear_warump_scheduler - warm_up_ratio` 0\n",
        "  - `weight decay` 0.01"
      ],
      "metadata": {
        "id": "rdB5FbFpA-9q"
      }
    },
    {
      "cell_type": "code",
      "source": [
        "!pip install transformers"
      ],
      "metadata": {
        "id": "maQVD4JFxGt-",
        "colab": {
          "base_uri": "https://localhost:8080/"
        },
        "outputId": "28a7ec37-8cec-4fd5-996f-2a571041a2e1"
      },
      "execution_count": null,
      "outputs": [
        {
          "output_type": "stream",
          "name": "stdout",
          "text": [
            "Looking in indexes: https://pypi.org/simple, https://us-python.pkg.dev/colab-wheels/public/simple/\n",
            "Collecting transformers\n",
            "  Downloading transformers-4.27.3-py3-none-any.whl (6.8 MB)\n",
            "\u001b[2K     \u001b[90m━━━━━━━━━━━━━━━━━━━━━━━━━━━━━━━━━━━━━━━━\u001b[0m \u001b[32m6.8/6.8 MB\u001b[0m \u001b[31m86.4 MB/s\u001b[0m eta \u001b[36m0:00:00\u001b[0m\n",
            "\u001b[?25hRequirement already satisfied: tqdm>=4.27 in /usr/local/lib/python3.9/dist-packages (from transformers) (4.65.0)\n",
            "Requirement already satisfied: pyyaml>=5.1 in /usr/local/lib/python3.9/dist-packages (from transformers) (6.0)\n",
            "Collecting tokenizers!=0.11.3,<0.14,>=0.11.1\n",
            "  Downloading tokenizers-0.13.2-cp39-cp39-manylinux_2_17_x86_64.manylinux2014_x86_64.whl (7.6 MB)\n",
            "\u001b[2K     \u001b[90m━━━━━━━━━━━━━━━━━━━━━━━━━━━━━━━━━━━━━━━━\u001b[0m \u001b[32m7.6/7.6 MB\u001b[0m \u001b[31m95.6 MB/s\u001b[0m eta \u001b[36m0:00:00\u001b[0m\n",
            "\u001b[?25hRequirement already satisfied: requests in /usr/local/lib/python3.9/dist-packages (from transformers) (2.27.1)\n",
            "Requirement already satisfied: regex!=2019.12.17 in /usr/local/lib/python3.9/dist-packages (from transformers) (2022.10.31)\n",
            "Requirement already satisfied: packaging>=20.0 in /usr/local/lib/python3.9/dist-packages (from transformers) (23.0)\n",
            "Requirement already satisfied: numpy>=1.17 in /usr/local/lib/python3.9/dist-packages (from transformers) (1.22.4)\n",
            "Requirement already satisfied: filelock in /usr/local/lib/python3.9/dist-packages (from transformers) (3.10.0)\n",
            "Collecting huggingface-hub<1.0,>=0.11.0\n",
            "  Downloading huggingface_hub-0.13.3-py3-none-any.whl (199 kB)\n",
            "\u001b[2K     \u001b[90m━━━━━━━━━━━━━━━━━━━━━━━━━━━━━━━━━━━━━━\u001b[0m \u001b[32m199.8/199.8 KB\u001b[0m \u001b[31m23.9 MB/s\u001b[0m eta \u001b[36m0:00:00\u001b[0m\n",
            "\u001b[?25hRequirement already satisfied: typing-extensions>=3.7.4.3 in /usr/local/lib/python3.9/dist-packages (from huggingface-hub<1.0,>=0.11.0->transformers) (4.5.0)\n",
            "Requirement already satisfied: charset-normalizer~=2.0.0 in /usr/local/lib/python3.9/dist-packages (from requests->transformers) (2.0.12)\n",
            "Requirement already satisfied: urllib3<1.27,>=1.21.1 in /usr/local/lib/python3.9/dist-packages (from requests->transformers) (1.26.15)\n",
            "Requirement already satisfied: idna<4,>=2.5 in /usr/local/lib/python3.9/dist-packages (from requests->transformers) (3.4)\n",
            "Requirement already satisfied: certifi>=2017.4.17 in /usr/local/lib/python3.9/dist-packages (from requests->transformers) (2022.12.7)\n",
            "Installing collected packages: tokenizers, huggingface-hub, transformers\n",
            "Successfully installed huggingface-hub-0.13.3 tokenizers-0.13.2 transformers-4.27.3\n"
          ]
        }
      ]
    },
    {
      "cell_type": "code",
      "source": [
        "from google.colab import drive\n",
        "import os\n",
        "drive.mount('/content/drive')\n",
        "os.chdir(\"./drive/MyDrive/프리온보딩\")"
      ],
      "metadata": {
        "id": "dOlaphMkwHzu",
        "colab": {
          "base_uri": "https://localhost:8080/"
        },
        "outputId": "a154a83e-1013-42d8-d67b-57d672f749c7"
      },
      "execution_count": null,
      "outputs": [
        {
          "output_type": "stream",
          "name": "stdout",
          "text": [
            "Mounted at /content/drive\n"
          ]
        }
      ]
    },
    {
      "cell_type": "code",
      "source": [
        "from torch.utils.data import Dataset, DataLoader, SequentialSampler\n",
        "\n",
        "class CustomDataset(Dataset):\n",
        "    \"\"\"\n",
        "    데이터 프레임의 입력을 받아 (input, target) 형태의 Dataset 생성\n",
        "    \"\"\"\n",
        "    def __init__(self, data) -> None: \n",
        "        self.data = data            \n",
        "        self.input, self.label = list(zip(self.data['sentence1'], self.data['sentence2'])), self.data['real_label']\n",
        "\n",
        "    def __len__(self):\n",
        "        return len(self.label) # len(y)\n",
        "\n",
        "    def __getitem__(self, index):\n",
        "        return self.input[index], self.label[index] # getitem 호출 시 tuple 형태로 x, y 반환"
      ],
      "metadata": {
        "id": "57jfO2eywoWQ"
      },
      "execution_count": null,
      "outputs": []
    },
    {
      "cell_type": "code",
      "source": [
        "def custom_collate_fn(batch):\n",
        "    \"\"\"\n",
        "  한 배치 내 문장(input)들을 tokenizing 한 후 텐서로 변환함. \n",
        "    \"\"\"\n",
        "    global tokenizer\n",
        "  \n",
        "    input_list, target_list = zip(*batch) #(input_list, target_list)를 list가 감싸고 있기 때문에 unpacking(*) 후에 zip으로 할당\n",
        "    tensorized_input = tokenizer.batch_encode_plus(\n",
        "        # input_list\n",
        "        [(sentences[0], sentences[1]) for sentences in input_list],\n",
        "        max_length = 128, # model_setting\n",
        "        padding= \"max_length\",\n",
        "        add_special_tokens=True,\n",
        "        truncation=True,\n",
        "        return_tensors='pt',\n",
        "    )\n",
        "    \n",
        "    tensorized_label = torch.tensor(target_list)\n",
        "  \n",
        "    return tensorized_input, tensorized_label"
      ],
      "metadata": {
        "id": "5ITsnt5_wp8A"
      },
      "execution_count": null,
      "outputs": []
    },
    {
      "cell_type": "code",
      "source": [
        "valid_dataset = CustomDataset(valid_data)\n",
        "test_dataset = CustomDataset(test_data)"
      ],
      "metadata": {
        "id": "sPhex2J1wrkg"
      },
      "execution_count": null,
      "outputs": []
    },
    {
      "cell_type": "markdown",
      "source": [
        "#### N = 5로 Loss 추출\n",
        "- Sample Size(표본의 크기)를`N` = 30 으로 설정할 경우 Number of samples(표본의 개수)가 적어짐\n",
        "- 생성된 `검증` 데이터의 경우, 노이즈가 많을 수 밖에 없는데, 표본의 개수까지 적다면 검정의 정확도가 떨어질 것이라고 판단\n",
        "- 따라서 표본의 크기 `N`을 5로 추출하여, 표본의 개수를 늘림\n",
        "- 다만 이 경우, 표본 평균의 분포를 가정할 수 없기에 `비모수 검정` 활용  "
      ],
      "metadata": {
        "id": "idHWV-CigySe"
      }
    },
    {
      "cell_type": "code",
      "source": [
        "valid_dataloader = DataLoader(valid_dataset, batch_size = 5, sampler = SequentialSampler(valid_dataset), collate_fn = custom_collate_fn)\n",
        "test_dataloader = DataLoader(test_dataset, batch_size = 5, sampler = SequentialSampler(test_dataset), collate_fn = custom_collate_fn)"
      ],
      "metadata": {
        "id": "Azxr-AeewvIx"
      },
      "execution_count": null,
      "outputs": []
    },
    {
      "cell_type": "code",
      "source": [
        "from transformers import ElectraForSequenceClassification, ElectraTokenizer\n",
        "\n",
        "model = ElectraForSequenceClassification.from_pretrained(\"./final_model/best_model\")\n",
        "tokenizer = ElectraTokenizer.from_pretrained(\"monologg/koelectra-base-v3-discriminator\")"
      ],
      "metadata": {
        "id": "XK_3TK7BzlrA"
      },
      "execution_count": null,
      "outputs": []
    },
    {
      "cell_type": "code",
      "source": [
        "import torch\n",
        "# device type\n",
        "def set_device():\n",
        "    if torch.cuda.is_available():\n",
        "        device = torch.device(\"cuda\")\n",
        "        print(f\"# available GPUs : {torch.cuda.device_count()}\")\n",
        "        print(f\"GPU name : {torch.cuda.get_device_name()}\")\n",
        "    else:\n",
        "        device = torch.device(\"cpu\")\n",
        "    return device\n",
        "device = set_device()\n",
        "device"
      ],
      "metadata": {
        "id": "SAj4CHHNznjm",
        "colab": {
          "base_uri": "https://localhost:8080/"
        },
        "outputId": "3a11d4f8-9a35-45a8-b2e3-7c0d152aa3f0"
      },
      "execution_count": null,
      "outputs": [
        {
          "output_type": "stream",
          "name": "stdout",
          "text": [
            "# available GPUs : 1\n",
            "GPU name : Tesla T4\n"
          ]
        },
        {
          "output_type": "execute_result",
          "data": {
            "text/plain": [
              "device(type='cuda')"
            ]
          },
          "metadata": {},
          "execution_count": 66
        }
      ]
    },
    {
      "cell_type": "code",
      "source": [
        "from scipy.stats import pearsonr\n",
        "from sklearn.metrics import f1_score\n",
        "import numpy as np\n",
        "\n",
        "def test(model, dataloader, device):    \n",
        "    \"\"\"\n",
        "    훈련된 모델의 Test Dataset 성능을 확인합니다.\n",
        "    \"\"\"  \n",
        "    model.to(device)\n",
        "    model.eval()\n",
        "    \n",
        "    total_loss = 0\n",
        "    batch_count, batch_loss = 0, 0\n",
        "    preds_np = None\n",
        "\n",
        "    loss_list = []\n",
        "\n",
        "    for step, batch in enumerate(dataloader):       \n",
        "        batch_count += 1\n",
        "        batch = tuple(item.to(device) for item in batch)\n",
        "\n",
        "        batch_input, batch_label = batch\n",
        "\n",
        "        with torch.no_grad():\n",
        "            outputs = model(**batch_input, labels = batch_label)\n",
        "    \n",
        "        loss = outputs.loss\n",
        "        preds = outputs.logits.squeeze()\n",
        "\n",
        "        \n",
        "        # 모델 예측 값과 Label 값 저장.\n",
        "        if preds_np is None:\n",
        "            preds_np = preds.detach().cpu().numpy()\n",
        "            labels_np = batch_label.detach().cpu().numpy()\n",
        "        else:\n",
        "            preds_np = np.append(preds_np, preds.detach().cpu().numpy(), axis=0)\n",
        "            labels_np = np.append(labels_np, batch_label.detach().cpu().numpy(), axis=0)\n",
        "        \n",
        "        batch_loss += loss.item()\n",
        "        total_loss += loss.item()\n",
        "        loss_list.append(loss.item())\n",
        "                        \n",
        "    total_valid_loss = total_loss / (step + 1)\n",
        "\n",
        "    p_score = pearsonr(preds_np, labels_np)[0] * 100\n",
        "    print(f\"Pearsonr : {p_score}\")\n",
        "    # 마지막은 N = 30이 아니기 때문에 제외\n",
        "    return loss_list[:-1], p_score"
      ],
      "metadata": {
        "id": "zuoSJ9gezqzP"
      },
      "execution_count": null,
      "outputs": []
    },
    {
      "cell_type": "code",
      "source": [
        "print(\"Valid 데이터 : \", end = \"\")\n",
        "loss_list_valid, p_score_valid = test(model, valid_dataloader, device)\n",
        "print(\"Test 데이터 : \", end = \"\")\n",
        "loss_list_test, p_score_test = test(model, test_dataloader, device)"
      ],
      "metadata": {
        "id": "irK454hUzwXG",
        "colab": {
          "base_uri": "https://localhost:8080/"
        },
        "outputId": "5a7c229c-0547-4129-fbdb-47bfeed5eb22"
      },
      "execution_count": null,
      "outputs": [
        {
          "output_type": "stream",
          "name": "stdout",
          "text": [
            "Valid 데이터 : Pearsonr : 97.4004252908394\n",
            "Test 데이터 : Pearsonr : 93.31220943964831\n"
          ]
        }
      ]
    },
    {
      "cell_type": "markdown",
      "source": [
        "### 2) Loss 데이터 확인"
      ],
      "metadata": {
        "id": "spKuVWHmcNFK"
      }
    },
    {
      "cell_type": "code",
      "source": [
        "import numpy as np\n",
        "\n",
        "df = pd.DataFrame()\n",
        "df['loss_eval'] = [loss_list_valid]\n",
        "df['loss_test'] = [loss_list_test]\n",
        "df['pearson_eval'] = p_score_valid\n",
        "df['pearson_test'] = p_score_test\n",
        "\n",
        "df['loss_mean_eval'] = df['loss_eval'].apply(lambda x : np.mean(x))\n",
        "\n",
        "df['loss_mean_test'] = df['loss_test'].apply(lambda x : np.mean(x))"
      ],
      "metadata": {
        "id": "k98yRmwOa0A-"
      },
      "execution_count": null,
      "outputs": []
    },
    {
      "cell_type": "markdown",
      "source": [
        "#### 검증 - 테스트 데이터에서의 Loss 분포 확인하기\n",
        "- `검증` 데이터의 Loss 분포 양상이 `테스트` 데이터와 많이 다름을 확인할 수 있음\n",
        "- 생성한 `검증` 데이터이기에, 기본적으로 노이즈함    "
      ],
      "metadata": {
        "id": "zCXyo-lrio7Q"
      }
    },
    {
      "cell_type": "code",
      "source": [
        "fig, axs = plt.subplots(1, 2, figsize=(10, 5))\n",
        "\n",
        "axs[0].plot(*df['loss_eval'])\n",
        "axs[0].set_title(\"Eval Loss\")\n",
        "axs[1].plot(*df['loss_test'])\n",
        "axs[1].set_title(\"Test Loss\")"
      ],
      "metadata": {
        "colab": {
          "base_uri": "https://localhost:8080/",
          "height": 354
        },
        "id": "iofASNRodAqR",
        "outputId": "dcf48482-84cc-4471-9755-7ebaa2a81de8"
      },
      "execution_count": null,
      "outputs": [
        {
          "output_type": "execute_result",
          "data": {
            "text/plain": [
              "Text(0.5, 1.0, 'Test Loss')"
            ]
          },
          "metadata": {},
          "execution_count": 108
        },
        {
          "output_type": "display_data",
          "data": {
            "text/plain": [
              "<Figure size 720x360 with 2 Axes>"
            ],
            "image/png": "[encoded data removed]"
          },
          "metadata": {
            "needs_background": "light"
          }
        }
      ]
    },
    {
      "cell_type": "markdown",
      "source": [
        "### 3) Loss 데이터를 활용한 Mann-Whitney U Test"
      ],
      "metadata": {
        "id": "vMXAmj6CkZuu"
      }
    },
    {
      "cell_type": "markdown",
      "source": [
        "`Mann-Whitney U Test`?\n",
        "- `2 sample T Test`에 대응하는 비모수 검정법\n",
        "- 두 집단의 순위를 활용해 순위 합을 구하고, 그 차이가 유의한 지 확인\n",
        "- 분포에 대한 가정 없이, 검정이 가능"
      ],
      "metadata": {
        "id": "59ErLXAjkjWW"
      }
    },
    {
      "cell_type": "markdown",
      "source": [
        "#### U - Test 실시"
      ],
      "metadata": {
        "id": "ab7U1mE2y5q4"
      }
    },
    {
      "cell_type": "markdown",
      "source": [
        "- $H0$ : `두 집단의 모집단 사이 차이가 없다.`\n",
        "- `p-value`는 `5 * 1e-8`으로 `0.05`의 유의 수준 하 $H0$를 기각할 수 있음\n",
        "- 이를 통해 `검증`, `테스트` 데이터 각각으로 인한 `Loss` 모집단이 다르다고 판단"
      ],
      "metadata": {
        "id": "mqefVItLy3Md"
      }
    },
    {
      "cell_type": "code",
      "source": [
        "from scipy.stats import mannwhitneyu\n",
        "\n",
        "mannwhitneyu(*df['loss_eval'], *df['loss_test'])"
      ],
      "metadata": {
        "colab": {
          "base_uri": "https://localhost:8080/"
        },
        "id": "PfnLdnHHkfub",
        "outputId": "943cae50-2854-4987-c033-158018d07118"
      },
      "execution_count": null,
      "outputs": [
        {
          "output_type": "execute_result",
          "data": {
            "text/plain": [
              "MannwhitneyuResult(statistic=13428.0, pvalue=5.8028261671615166e-08)"
            ]
          },
          "metadata": {},
          "execution_count": 111
        }
      ]
    },
    {
      "cell_type": "markdown",
      "source": [
        "### 4) 결론"
      ],
      "metadata": {
        "id": "W8621xRszJHb"
      }
    },
    {
      "cell_type": "markdown",
      "source": [
        "![image](https://user-images.githubusercontent.com/86637320/227470317-fe069fef-f568-4ae5-9f4d-1b37a196dc93.png)\n"
      ],
      "metadata": {
        "id": "49pxgqjbzsGR"
      }
    },
    {
      "cell_type": "markdown",
      "source": [
        "- `검증`, `테스트` 데이터에 대한 모델의 `Loss` 분포는, 시각적으로도 또 수치적으로 차이가 있다고 보는 것이 타당함\n",
        "- 이를 통해 `Augmented Data`를 활용한 하이퍼 파라미터 튜닝이, 테스트 데이터에서의 성능 향상으로 이어지지 않을 것으로 판단 가능 \n",
        "- 다만 `검증` 데이터의 품질 개선으로 `테스트` 데이터의 양상을 더 잘 나타낼 수 있을 경우, `검증` 데이터를 활용한 하이퍼 파라미터 튜닝이 `테스트` 데이터 성능 개선으로 이어질 것으로 기대 가능"
      ],
      "metadata": {
        "id": "2QCthlOOzxyo"
      }
    },
    {
      "cell_type": "markdown",
      "source": [
        "# 2.검증 - 테스트 데이터에서의 실제 성능 양상 확인"
      ],
      "metadata": {
        "id": "B-RWhwsC0i4c"
      }
    },
    {
      "cell_type": "markdown",
      "source": [
        "- 동일 모델 기준, Augmented Data를 활용한 `검증` 및 `테스트`에서 어느 정도의 성능이 나오는지 확인\n",
        "- 실제 데이터를 통해 `검정` 결과(`검증`, `테스트`의 Loss 분포가 다름)를 확인해 보는 것이 목적 \n",
        "- [wandb에 기록된 `검증` 성능](https://wandb.ai/woodywarhol99/monologg-sts-20000/reports/KLUE-STS--VmlldzoxOTI2NTYx?accessToken=t06zas1bur5nonwol5ql1r4hwv4f58jxm3l0zwi7y8hq5cg8earwkj5cxmo8sn6d)과 실제 `테스트` 성능 사이 비교"
      ],
      "metadata": {
        "id": "cXb8IwksUITl"
      }
    },
    {
      "cell_type": "markdown",
      "source": [
        "![image](https://user-images.githubusercontent.com/86637320/166138953-bd81cd59-2c45-4a6b-a274-531f3a976099.png)"
      ],
      "metadata": {
        "id": "pVtoeWz4a_x-"
      }
    },
    {
      "cell_type": "markdown",
      "source": [
        "## A. 데이터 불러오기"
      ],
      "metadata": {
        "id": "GMEH3nwTnJwX"
      }
    },
    {
      "cell_type": "markdown",
      "source": [
        "### 1) 테스트 데이터에 대한 모델 결과 불러오기"
      ],
      "metadata": {
        "id": "TmCE141cR1Gb"
      }
    },
    {
      "cell_type": "markdown",
      "source": [
        "- PC에 csv 파일로 따로 저장해 별도의 이름 변경 작업 필요"
      ],
      "metadata": {
        "id": "Xk58ymGAauUh"
      }
    },
    {
      "cell_type": "code",
      "source": [
        "import pandas as pd\n",
        "import seaborn as sns\n",
        "import matplotlib.pyplot as plt\n",
        "import numpy as np"
      ],
      "metadata": {
        "id": "3Iywrc0nRSOc"
      },
      "execution_count": 1,
      "outputs": []
    },
    {
      "cell_type": "code",
      "source": [
        "test = pd.read_csv(\"monologg-sts-test.csv\")\n",
        "test = test.drop([\"Unnamed: 0\"], axis = 1).rename(columns = {\"val_loss\" : \"test_loss\", \"f1_score\" : \"test_f1_score\", \"pearsonr\" : \"test_pearsonr\"})\n",
        "test[\"name\"] = test['name'].apply(lambda x : str(x).split(\"/\")[2])\n",
        "test['name'] = test['name'].apply(lambda x : \"-\".join(str(x).split(\"-\")[:4]))"
      ],
      "metadata": {
        "id": "gOcuX40mRVj0"
      },
      "execution_count": 2,
      "outputs": []
    },
    {
      "cell_type": "code",
      "source": [
        "test"
      ],
      "metadata": {
        "colab": {
          "base_uri": "https://localhost:8080/",
          "height": 424
        },
        "id": "tKy8bBP7RWdE",
        "outputId": "afcca98f-ade9-4947-9cbc-33f986731d16"
      },
      "execution_count": 3,
      "outputs": [
        {
          "output_type": "execute_result",
          "data": {
            "text/plain": [
              "                   name  test_loss  test_f1_score  test_pearsonr\n",
              "0   sparkling-sweep-7-9   0.314946      85.654886      93.017024\n",
              "1        fast-sweep-5-2   0.446036      84.765625      91.994137\n",
              "2   sparkling-sweep-7-3   0.442770      85.487078      92.034039\n",
              "3   twilight-sweep-10-5   0.348137      84.552846      92.695814\n",
              "4       comic-sweep-9-6   0.338825      84.959350      92.841258\n",
              "..                  ...        ...            ...            ...\n",
              "95      comic-sweep-9-0   0.477055      84.812623      90.847050\n",
              "96      comic-sweep-9-1   0.638054      82.264151      90.179094\n",
              "97  twilight-sweep-10-8   0.319049      85.132383      92.958405\n",
              "98     astral-sweep-3-4   0.360022      85.943775      92.258432\n",
              "99  sparkling-sweep-7-6   0.343966      85.656566      92.989366\n",
              "\n",
              "[100 rows x 4 columns]"
            ],
            "text/html": [
              "\n",
              "  <div id=\"df-b60afbed-9fe7-4327-8f4d-499a0fbdb8d8\">\n",
              "    <div class=\"colab-df-container\">\n",
              "      <div>\n",
              "<style scoped>\n",
              "    .dataframe tbody tr th:only-of-type {\n",
              "        vertical-align: middle;\n",
              "    }\n",
              "\n",
              "    .dataframe tbody tr th {\n",
              "        vertical-align: top;\n",
              "    }\n",
              "\n",
              "    .dataframe thead th {\n",
              "        text-align: right;\n",
              "    }\n",
              "</style>\n",
              "<table border=\"1\" class=\"dataframe\">\n",
              "  <thead>\n",
              "    <tr style=\"text-align: right;\">\n",
              "      <th></th>\n",
              "      <th>name</th>\n",
              "      <th>test_loss</th>\n",
              "      <th>test_f1_score</th>\n",
              "      <th>test_pearsonr</th>\n",
              "    </tr>\n",
              "  </thead>\n",
              "  <tbody>\n",
              "    <tr>\n",
              "      <th>0</th>\n",
              "      <td>sparkling-sweep-7-9</td>\n",
              "      <td>0.314946</td>\n",
              "      <td>85.654886</td>\n",
              "      <td>93.017024</td>\n",
              "    </tr>\n",
              "    <tr>\n",
              "      <th>1</th>\n",
              "      <td>fast-sweep-5-2</td>\n",
              "      <td>0.446036</td>\n",
              "      <td>84.765625</td>\n",
              "      <td>91.994137</td>\n",
              "    </tr>\n",
              "    <tr>\n",
              "      <th>2</th>\n",
              "      <td>sparkling-sweep-7-3</td>\n",
              "      <td>0.442770</td>\n",
              "      <td>85.487078</td>\n",
              "      <td>92.034039</td>\n",
              "    </tr>\n",
              "    <tr>\n",
              "      <th>3</th>\n",
              "      <td>twilight-sweep-10-5</td>\n",
              "      <td>0.348137</td>\n",
              "      <td>84.552846</td>\n",
              "      <td>92.695814</td>\n",
              "    </tr>\n",
              "    <tr>\n",
              "      <th>4</th>\n",
              "      <td>comic-sweep-9-6</td>\n",
              "      <td>0.338825</td>\n",
              "      <td>84.959350</td>\n",
              "      <td>92.841258</td>\n",
              "    </tr>\n",
              "    <tr>\n",
              "      <th>...</th>\n",
              "      <td>...</td>\n",
              "      <td>...</td>\n",
              "      <td>...</td>\n",
              "      <td>...</td>\n",
              "    </tr>\n",
              "    <tr>\n",
              "      <th>95</th>\n",
              "      <td>comic-sweep-9-0</td>\n",
              "      <td>0.477055</td>\n",
              "      <td>84.812623</td>\n",
              "      <td>90.847050</td>\n",
              "    </tr>\n",
              "    <tr>\n",
              "      <th>96</th>\n",
              "      <td>comic-sweep-9-1</td>\n",
              "      <td>0.638054</td>\n",
              "      <td>82.264151</td>\n",
              "      <td>90.179094</td>\n",
              "    </tr>\n",
              "    <tr>\n",
              "      <th>97</th>\n",
              "      <td>twilight-sweep-10-8</td>\n",
              "      <td>0.319049</td>\n",
              "      <td>85.132383</td>\n",
              "      <td>92.958405</td>\n",
              "    </tr>\n",
              "    <tr>\n",
              "      <th>98</th>\n",
              "      <td>astral-sweep-3-4</td>\n",
              "      <td>0.360022</td>\n",
              "      <td>85.943775</td>\n",
              "      <td>92.258432</td>\n",
              "    </tr>\n",
              "    <tr>\n",
              "      <th>99</th>\n",
              "      <td>sparkling-sweep-7-6</td>\n",
              "      <td>0.343966</td>\n",
              "      <td>85.656566</td>\n",
              "      <td>92.989366</td>\n",
              "    </tr>\n",
              "  </tbody>\n",
              "</table>\n",
              "<p>100 rows × 4 columns</p>\n",
              "</div>\n",
              "      <button class=\"colab-df-convert\" onclick=\"convertToInteractive('df-b60afbed-9fe7-4327-8f4d-499a0fbdb8d8')\"\n",
              "              title=\"Convert this dataframe to an interactive table.\"\n",
              "              style=\"display:none;\">\n",
              "        \n",
              "  <svg xmlns=\"http://www.w3.org/2000/svg\" height=\"24px\"viewBox=\"0 0 24 24\"\n",
              "       width=\"24px\">\n",
              "    <path d=\"M0 0h24v24H0V0z\" fill=\"none\"/>\n",
              "    <path d=\"M18.56 5.44l.94 2.06.94-2.06 2.06-.94-2.06-.94-.94-2.06-.94 2.06-2.06.94zm-11 1L8.5 8.5l.94-2.06 2.06-.94-2.06-.94L8.5 2.5l-.94 2.06-2.06.94zm10 10l.94 2.06.94-2.06 2.06-.94-2.06-.94-.94-2.06-.94 2.06-2.06.94z\"/><path d=\"M17.41 7.96l-1.37-1.37c-.4-.4-.92-.59-1.43-.59-.52 0-1.04.2-1.43.59L10.3 9.45l-7.72 7.72c-.78.78-.78 2.05 0 2.83L4 21.41c.39.39.9.59 1.41.59.51 0 1.02-.2 1.41-.59l7.78-7.78 2.81-2.81c.8-.78.8-2.07 0-2.86zM5.41 20L4 18.59l7.72-7.72 1.47 1.35L5.41 20z\"/>\n",
              "  </svg>\n",
              "      </button>\n",
              "      \n",
              "  <style>\n",
              "    .colab-df-container {\n",
              "      display:flex;\n",
              "      flex-wrap:wrap;\n",
              "      gap: 12px;\n",
              "    }\n",
              "\n",
              "    .colab-df-convert {\n",
              "      background-color: #E8F0FE;\n",
              "      border: none;\n",
              "      border-radius: 50%;\n",
              "      cursor: pointer;\n",
              "      display: none;\n",
              "      fill: #1967D2;\n",
              "      height: 32px;\n",
              "      padding: 0 0 0 0;\n",
              "      width: 32px;\n",
              "    }\n",
              "\n",
              "    .colab-df-convert:hover {\n",
              "      background-color: #E2EBFA;\n",
              "      box-shadow: 0px 1px 2px rgba(60, 64, 67, 0.3), 0px 1px 3px 1px rgba(60, 64, 67, 0.15);\n",
              "      fill: #174EA6;\n",
              "    }\n",
              "\n",
              "    [theme=dark] .colab-df-convert {\n",
              "      background-color: #3B4455;\n",
              "      fill: #D2E3FC;\n",
              "    }\n",
              "\n",
              "    [theme=dark] .colab-df-convert:hover {\n",
              "      background-color: #434B5C;\n",
              "      box-shadow: 0px 1px 3px 1px rgba(0, 0, 0, 0.15);\n",
              "      filter: drop-shadow(0px 1px 2px rgba(0, 0, 0, 0.3));\n",
              "      fill: #FFFFFF;\n",
              "    }\n",
              "  </style>\n",
              "\n",
              "      <script>\n",
              "        const buttonEl =\n",
              "          document.querySelector('#df-b60afbed-9fe7-4327-8f4d-499a0fbdb8d8 button.colab-df-convert');\n",
              "        buttonEl.style.display =\n",
              "          google.colab.kernel.accessAllowed ? 'block' : 'none';\n",
              "\n",
              "        async function convertToInteractive(key) {\n",
              "          const element = document.querySelector('#df-b60afbed-9fe7-4327-8f4d-499a0fbdb8d8');\n",
              "          const dataTable =\n",
              "            await google.colab.kernel.invokeFunction('convertToInteractive',\n",
              "                                                     [key], {});\n",
              "          if (!dataTable) return;\n",
              "\n",
              "          const docLinkHtml = 'Like what you see? Visit the ' +\n",
              "            '<a target=\"_blank\" href=https://colab.research.google.com/notebooks/data_table.ipynb>data table notebook</a>'\n",
              "            + ' to learn more about interactive tables.';\n",
              "          element.innerHTML = '';\n",
              "          dataTable['output_type'] = 'display_data';\n",
              "          await google.colab.output.renderOutput(dataTable, element);\n",
              "          const docLink = document.createElement('div');\n",
              "          docLink.innerHTML = docLinkHtml;\n",
              "          element.appendChild(docLink);\n",
              "        }\n",
              "      </script>\n",
              "    </div>\n",
              "  </div>\n",
              "  "
            ]
          },
          "metadata": {},
          "execution_count": 3
        }
      ]
    },
    {
      "cell_type": "markdown",
      "source": [
        "### 2) 검증 데이터에 대한 모델 결과 불러오기\n",
        "  - 기록된 모델들\n",
        "    - dazzling-1\n",
        "    - fearless-2\n",
        "    - astral-3\n",
        "    - copper-4\n",
        "    - fast-5\n",
        "    - giddy-6\n",
        "    - sparkling-7\n",
        "    - helpful-8\n",
        "    - comic-9\n",
        "    - twilight-10\n",
        "\n",
        "- wandb에서 기록된 결과 다운로드 받아와서 확인\n",
        "- 각 행의 결과가 Epoch 별 결과"
      ],
      "metadata": {
        "id": "hEuaN7xCR7Bg"
      }
    },
    {
      "cell_type": "code",
      "source": [
        "val_loss = pd.read_csv(\"val_loss.csv\")\n",
        "val_pearsonr = pd.read_csv(\"pearsonr.csv\")\n",
        "val_f1 = pd.read_csv(\"f1_score.csv\")\n",
        "val_loss"
      ],
      "metadata": {
        "colab": {
          "base_uri": "https://localhost:8080/",
          "height": 491
        },
        "id": "pixJ7dn1SP1s",
        "outputId": "725eecda-dbff-4224-b247-de775abbbd60"
      },
      "execution_count": 4,
      "outputs": [
        {
          "output_type": "execute_result",
          "data": {
            "text/plain": [
              "   Step  twilight-sweep-10 - total_valid_loss  \\\n",
              "0    11                              0.352640   \n",
              "1    23                              0.140768   \n",
              "2    35                              0.123681   \n",
              "3    47                              0.131809   \n",
              "4    59                              0.105063   \n",
              "5    71                              0.095339   \n",
              "6    83                              0.104939   \n",
              "7    95                              0.095172   \n",
              "8   107                              0.094891   \n",
              "9   119                              0.096358   \n",
              "\n",
              "   twilight-sweep-10 - total_valid_loss__MIN  \\\n",
              "0                                   0.352640   \n",
              "1                                   0.140768   \n",
              "2                                   0.123681   \n",
              "3                                   0.131809   \n",
              "4                                   0.105063   \n",
              "5                                   0.095339   \n",
              "6                                   0.104939   \n",
              "7                                   0.095172   \n",
              "8                                   0.094891   \n",
              "9                                   0.096358   \n",
              "\n",
              "   twilight-sweep-10 - total_valid_loss__MAX  \\\n",
              "0                                   0.352640   \n",
              "1                                   0.140768   \n",
              "2                                   0.123681   \n",
              "3                                   0.131809   \n",
              "4                                   0.105063   \n",
              "5                                   0.095339   \n",
              "6                                   0.104939   \n",
              "7                                   0.095172   \n",
              "8                                   0.094891   \n",
              "9                                   0.096358   \n",
              "\n",
              "   comic-sweep-9 - total_valid_loss  comic-sweep-9 - total_valid_loss__MIN  \\\n",
              "0                          0.191461                               0.191461   \n",
              "1                          0.223999                               0.223999   \n",
              "2                          0.131621                               0.131621   \n",
              "3                          0.106820                               0.106820   \n",
              "4                          0.099872                               0.099872   \n",
              "5                          0.098275                               0.098275   \n",
              "6                          0.090451                               0.090451   \n",
              "7                          0.088218                               0.088218   \n",
              "8                          0.086781                               0.086781   \n",
              "9                          0.085740                               0.085740   \n",
              "\n",
              "   comic-sweep-9 - total_valid_loss__MAX  helpful-sweep-8 - total_valid_loss  \\\n",
              "0                               0.191461                            0.277197   \n",
              "1                               0.223999                            0.132750   \n",
              "2                               0.131621                            0.120084   \n",
              "3                               0.106820                            0.104457   \n",
              "4                               0.099872                            0.099499   \n",
              "5                               0.098275                            0.099340   \n",
              "6                               0.090451                            0.087082   \n",
              "7                               0.088218                            0.096088   \n",
              "8                               0.086781                            0.087998   \n",
              "9                               0.085740                            0.087996   \n",
              "\n",
              "   helpful-sweep-8 - total_valid_loss__MIN  \\\n",
              "0                                 0.277197   \n",
              "1                                 0.132750   \n",
              "2                                 0.120084   \n",
              "3                                 0.104457   \n",
              "4                                 0.099499   \n",
              "5                                 0.099340   \n",
              "6                                 0.087082   \n",
              "7                                 0.096088   \n",
              "8                                 0.087998   \n",
              "9                                 0.087996   \n",
              "\n",
              "   helpful-sweep-8 - total_valid_loss__MAX  ...  \\\n",
              "0                                 0.277197  ...   \n",
              "1                                 0.132750  ...   \n",
              "2                                 0.120084  ...   \n",
              "3                                 0.104457  ...   \n",
              "4                                 0.099499  ...   \n",
              "5                                 0.099340  ...   \n",
              "6                                 0.087082  ...   \n",
              "7                                 0.096088  ...   \n",
              "8                                 0.087998  ...   \n",
              "9                                 0.087996  ...   \n",
              "\n",
              "   copper-sweep-4 - total_valid_loss__MAX  astral-sweep-3 - total_valid_loss  \\\n",
              "0                                0.207574                           0.209491   \n",
              "1                                0.141717                           0.157893   \n",
              "2                                0.141851                           0.124738   \n",
              "3                                0.145309                           0.107852   \n",
              "4                                0.121435                           0.111105   \n",
              "5                                0.096718                           0.089958   \n",
              "6                                0.091955                           0.089651   \n",
              "7                                0.091918                           0.094902   \n",
              "8                                0.086764                           0.088506   \n",
              "9                                0.086523                           0.088650   \n",
              "\n",
              "   astral-sweep-3 - total_valid_loss__MIN  \\\n",
              "0                                0.209491   \n",
              "1                                0.157893   \n",
              "2                                0.124738   \n",
              "3                                0.107852   \n",
              "4                                0.111105   \n",
              "5                                0.089958   \n",
              "6                                0.089651   \n",
              "7                                0.094902   \n",
              "8                                0.088506   \n",
              "9                                0.088650   \n",
              "\n",
              "   astral-sweep-3 - total_valid_loss__MAX  \\\n",
              "0                                0.209491   \n",
              "1                                0.157893   \n",
              "2                                0.124738   \n",
              "3                                0.107852   \n",
              "4                                0.111105   \n",
              "5                                0.089958   \n",
              "6                                0.089651   \n",
              "7                                0.094902   \n",
              "8                                0.088506   \n",
              "9                                0.088650   \n",
              "\n",
              "   fearless-sweep-2 - total_valid_loss  \\\n",
              "0                             0.151885   \n",
              "1                             0.162219   \n",
              "2                             0.185822   \n",
              "3                             0.119553   \n",
              "4                             0.115568   \n",
              "5                             0.115012   \n",
              "6                             0.102971   \n",
              "7                             0.098701   \n",
              "8                             0.094574   \n",
              "9                             0.094852   \n",
              "\n",
              "   fearless-sweep-2 - total_valid_loss__MIN  \\\n",
              "0                                  0.151885   \n",
              "1                                  0.162219   \n",
              "2                                  0.185822   \n",
              "3                                  0.119553   \n",
              "4                                  0.115568   \n",
              "5                                  0.115012   \n",
              "6                                  0.102971   \n",
              "7                                  0.098701   \n",
              "8                                  0.094574   \n",
              "9                                  0.094852   \n",
              "\n",
              "   fearless-sweep-2 - total_valid_loss__MAX  \\\n",
              "0                                  0.151885   \n",
              "1                                  0.162219   \n",
              "2                                  0.185822   \n",
              "3                                  0.119553   \n",
              "4                                  0.115568   \n",
              "5                                  0.115012   \n",
              "6                                  0.102971   \n",
              "7                                  0.098701   \n",
              "8                                  0.094574   \n",
              "9                                  0.094852   \n",
              "\n",
              "   dazzling-sweep-1 - total_valid_loss  \\\n",
              "0                             0.197982   \n",
              "1                             0.199767   \n",
              "2                             0.122156   \n",
              "3                             0.116131   \n",
              "4                             0.128595   \n",
              "5                             0.108096   \n",
              "6                             0.106923   \n",
              "7                             0.119245   \n",
              "8                             0.099611   \n",
              "9                             0.101145   \n",
              "\n",
              "   dazzling-sweep-1 - total_valid_loss__MIN  \\\n",
              "0                                  0.197982   \n",
              "1                                  0.199767   \n",
              "2                                  0.122156   \n",
              "3                                  0.116131   \n",
              "4                                  0.128595   \n",
              "5                                  0.108096   \n",
              "6                                  0.106923   \n",
              "7                                  0.119245   \n",
              "8                                  0.099611   \n",
              "9                                  0.101145   \n",
              "\n",
              "   dazzling-sweep-1 - total_valid_loss__MAX  \n",
              "0                                  0.197982  \n",
              "1                                  0.199767  \n",
              "2                                  0.122156  \n",
              "3                                  0.116131  \n",
              "4                                  0.128595  \n",
              "5                                  0.108096  \n",
              "6                                  0.106923  \n",
              "7                                  0.119245  \n",
              "8                                  0.099611  \n",
              "9                                  0.101145  \n",
              "\n",
              "[10 rows x 31 columns]"
            ],
            "text/html": [
              "\n",
              "  <div id=\"df-81ca15bd-ce77-470e-ac46-b180213fbe34\">\n",
              "    <div class=\"colab-df-container\">\n",
              "      <div>\n",
              "<style scoped>\n",
              "    .dataframe tbody tr th:only-of-type {\n",
              "        vertical-align: middle;\n",
              "    }\n",
              "\n",
              "    .dataframe tbody tr th {\n",
              "        vertical-align: top;\n",
              "    }\n",
              "\n",
              "    .dataframe thead th {\n",
              "        text-align: right;\n",
              "    }\n",
              "</style>\n",
              "<table border=\"1\" class=\"dataframe\">\n",
              "  <thead>\n",
              "    <tr style=\"text-align: right;\">\n",
              "      <th></th>\n",
              "      <th>Step</th>\n",
              "      <th>twilight-sweep-10 - total_valid_loss</th>\n",
              "      <th>twilight-sweep-10 - total_valid_loss__MIN</th>\n",
              "      <th>twilight-sweep-10 - total_valid_loss__MAX</th>\n",
              "      <th>comic-sweep-9 - total_valid_loss</th>\n",
              "      <th>comic-sweep-9 - total_valid_loss__MIN</th>\n",
              "      <th>comic-sweep-9 - total_valid_loss__MAX</th>\n",
              "      <th>helpful-sweep-8 - total_valid_loss</th>\n",
              "      <th>helpful-sweep-8 - total_valid_loss__MIN</th>\n",
              "      <th>helpful-sweep-8 - total_valid_loss__MAX</th>\n",
              "      <th>...</th>\n",
              "      <th>copper-sweep-4 - total_valid_loss__MAX</th>\n",
              "      <th>astral-sweep-3 - total_valid_loss</th>\n",
              "      <th>astral-sweep-3 - total_valid_loss__MIN</th>\n",
              "      <th>astral-sweep-3 - total_valid_loss__MAX</th>\n",
              "      <th>fearless-sweep-2 - total_valid_loss</th>\n",
              "      <th>fearless-sweep-2 - total_valid_loss__MIN</th>\n",
              "      <th>fearless-sweep-2 - total_valid_loss__MAX</th>\n",
              "      <th>dazzling-sweep-1 - total_valid_loss</th>\n",
              "      <th>dazzling-sweep-1 - total_valid_loss__MIN</th>\n",
              "      <th>dazzling-sweep-1 - total_valid_loss__MAX</th>\n",
              "    </tr>\n",
              "  </thead>\n",
              "  <tbody>\n",
              "    <tr>\n",
              "      <th>0</th>\n",
              "      <td>11</td>\n",
              "      <td>0.352640</td>\n",
              "      <td>0.352640</td>\n",
              "      <td>0.352640</td>\n",
              "      <td>0.191461</td>\n",
              "      <td>0.191461</td>\n",
              "      <td>0.191461</td>\n",
              "      <td>0.277197</td>\n",
              "      <td>0.277197</td>\n",
              "      <td>0.277197</td>\n",
              "      <td>...</td>\n",
              "      <td>0.207574</td>\n",
              "      <td>0.209491</td>\n",
              "      <td>0.209491</td>\n",
              "      <td>0.209491</td>\n",
              "      <td>0.151885</td>\n",
              "      <td>0.151885</td>\n",
              "      <td>0.151885</td>\n",
              "      <td>0.197982</td>\n",
              "      <td>0.197982</td>\n",
              "      <td>0.197982</td>\n",
              "    </tr>\n",
              "    <tr>\n",
              "      <th>1</th>\n",
              "      <td>23</td>\n",
              "      <td>0.140768</td>\n",
              "      <td>0.140768</td>\n",
              "      <td>0.140768</td>\n",
              "      <td>0.223999</td>\n",
              "      <td>0.223999</td>\n",
              "      <td>0.223999</td>\n",
              "      <td>0.132750</td>\n",
              "      <td>0.132750</td>\n",
              "      <td>0.132750</td>\n",
              "      <td>...</td>\n",
              "      <td>0.141717</td>\n",
              "      <td>0.157893</td>\n",
              "      <td>0.157893</td>\n",
              "      <td>0.157893</td>\n",
              "      <td>0.162219</td>\n",
              "      <td>0.162219</td>\n",
              "      <td>0.162219</td>\n",
              "      <td>0.199767</td>\n",
              "      <td>0.199767</td>\n",
              "      <td>0.199767</td>\n",
              "    </tr>\n",
              "    <tr>\n",
              "      <th>2</th>\n",
              "      <td>35</td>\n",
              "      <td>0.123681</td>\n",
              "      <td>0.123681</td>\n",
              "      <td>0.123681</td>\n",
              "      <td>0.131621</td>\n",
              "      <td>0.131621</td>\n",
              "      <td>0.131621</td>\n",
              "      <td>0.120084</td>\n",
              "      <td>0.120084</td>\n",
              "      <td>0.120084</td>\n",
              "      <td>...</td>\n",
              "      <td>0.141851</td>\n",
              "      <td>0.124738</td>\n",
              "      <td>0.124738</td>\n",
              "      <td>0.124738</td>\n",
              "      <td>0.185822</td>\n",
              "      <td>0.185822</td>\n",
              "      <td>0.185822</td>\n",
              "      <td>0.122156</td>\n",
              "      <td>0.122156</td>\n",
              "      <td>0.122156</td>\n",
              "    </tr>\n",
              "    <tr>\n",
              "      <th>3</th>\n",
              "      <td>47</td>\n",
              "      <td>0.131809</td>\n",
              "      <td>0.131809</td>\n",
              "      <td>0.131809</td>\n",
              "      <td>0.106820</td>\n",
              "      <td>0.106820</td>\n",
              "      <td>0.106820</td>\n",
              "      <td>0.104457</td>\n",
              "      <td>0.104457</td>\n",
              "      <td>0.104457</td>\n",
              "      <td>...</td>\n",
              "      <td>0.145309</td>\n",
              "      <td>0.107852</td>\n",
              "      <td>0.107852</td>\n",
              "      <td>0.107852</td>\n",
              "      <td>0.119553</td>\n",
              "      <td>0.119553</td>\n",
              "      <td>0.119553</td>\n",
              "      <td>0.116131</td>\n",
              "      <td>0.116131</td>\n",
              "      <td>0.116131</td>\n",
              "    </tr>\n",
              "    <tr>\n",
              "      <th>4</th>\n",
              "      <td>59</td>\n",
              "      <td>0.105063</td>\n",
              "      <td>0.105063</td>\n",
              "      <td>0.105063</td>\n",
              "      <td>0.099872</td>\n",
              "      <td>0.099872</td>\n",
              "      <td>0.099872</td>\n",
              "      <td>0.099499</td>\n",
              "      <td>0.099499</td>\n",
              "      <td>0.099499</td>\n",
              "      <td>...</td>\n",
              "      <td>0.121435</td>\n",
              "      <td>0.111105</td>\n",
              "      <td>0.111105</td>\n",
              "      <td>0.111105</td>\n",
              "      <td>0.115568</td>\n",
              "      <td>0.115568</td>\n",
              "      <td>0.115568</td>\n",
              "      <td>0.128595</td>\n",
              "      <td>0.128595</td>\n",
              "      <td>0.128595</td>\n",
              "    </tr>\n",
              "    <tr>\n",
              "      <th>5</th>\n",
              "      <td>71</td>\n",
              "      <td>0.095339</td>\n",
              "      <td>0.095339</td>\n",
              "      <td>0.095339</td>\n",
              "      <td>0.098275</td>\n",
              "      <td>0.098275</td>\n",
              "      <td>0.098275</td>\n",
              "      <td>0.099340</td>\n",
              "      <td>0.099340</td>\n",
              "      <td>0.099340</td>\n",
              "      <td>...</td>\n",
              "      <td>0.096718</td>\n",
              "      <td>0.089958</td>\n",
              "      <td>0.089958</td>\n",
              "      <td>0.089958</td>\n",
              "      <td>0.115012</td>\n",
              "      <td>0.115012</td>\n",
              "      <td>0.115012</td>\n",
              "      <td>0.108096</td>\n",
              "      <td>0.108096</td>\n",
              "      <td>0.108096</td>\n",
              "    </tr>\n",
              "    <tr>\n",
              "      <th>6</th>\n",
              "      <td>83</td>\n",
              "      <td>0.104939</td>\n",
              "      <td>0.104939</td>\n",
              "      <td>0.104939</td>\n",
              "      <td>0.090451</td>\n",
              "      <td>0.090451</td>\n",
              "      <td>0.090451</td>\n",
              "      <td>0.087082</td>\n",
              "      <td>0.087082</td>\n",
              "      <td>0.087082</td>\n",
              "      <td>...</td>\n",
              "      <td>0.091955</td>\n",
              "      <td>0.089651</td>\n",
              "      <td>0.089651</td>\n",
              "      <td>0.089651</td>\n",
              "      <td>0.102971</td>\n",
              "      <td>0.102971</td>\n",
              "      <td>0.102971</td>\n",
              "      <td>0.106923</td>\n",
              "      <td>0.106923</td>\n",
              "      <td>0.106923</td>\n",
              "    </tr>\n",
              "    <tr>\n",
              "      <th>7</th>\n",
              "      <td>95</td>\n",
              "      <td>0.095172</td>\n",
              "      <td>0.095172</td>\n",
              "      <td>0.095172</td>\n",
              "      <td>0.088218</td>\n",
              "      <td>0.088218</td>\n",
              "      <td>0.088218</td>\n",
              "      <td>0.096088</td>\n",
              "      <td>0.096088</td>\n",
              "      <td>0.096088</td>\n",
              "      <td>...</td>\n",
              "      <td>0.091918</td>\n",
              "      <td>0.094902</td>\n",
              "      <td>0.094902</td>\n",
              "      <td>0.094902</td>\n",
              "      <td>0.098701</td>\n",
              "      <td>0.098701</td>\n",
              "      <td>0.098701</td>\n",
              "      <td>0.119245</td>\n",
              "      <td>0.119245</td>\n",
              "      <td>0.119245</td>\n",
              "    </tr>\n",
              "    <tr>\n",
              "      <th>8</th>\n",
              "      <td>107</td>\n",
              "      <td>0.094891</td>\n",
              "      <td>0.094891</td>\n",
              "      <td>0.094891</td>\n",
              "      <td>0.086781</td>\n",
              "      <td>0.086781</td>\n",
              "      <td>0.086781</td>\n",
              "      <td>0.087998</td>\n",
              "      <td>0.087998</td>\n",
              "      <td>0.087998</td>\n",
              "      <td>...</td>\n",
              "      <td>0.086764</td>\n",
              "      <td>0.088506</td>\n",
              "      <td>0.088506</td>\n",
              "      <td>0.088506</td>\n",
              "      <td>0.094574</td>\n",
              "      <td>0.094574</td>\n",
              "      <td>0.094574</td>\n",
              "      <td>0.099611</td>\n",
              "      <td>0.099611</td>\n",
              "      <td>0.099611</td>\n",
              "    </tr>\n",
              "    <tr>\n",
              "      <th>9</th>\n",
              "      <td>119</td>\n",
              "      <td>0.096358</td>\n",
              "      <td>0.096358</td>\n",
              "      <td>0.096358</td>\n",
              "      <td>0.085740</td>\n",
              "      <td>0.085740</td>\n",
              "      <td>0.085740</td>\n",
              "      <td>0.087996</td>\n",
              "      <td>0.087996</td>\n",
              "      <td>0.087996</td>\n",
              "      <td>...</td>\n",
              "      <td>0.086523</td>\n",
              "      <td>0.088650</td>\n",
              "      <td>0.088650</td>\n",
              "      <td>0.088650</td>\n",
              "      <td>0.094852</td>\n",
              "      <td>0.094852</td>\n",
              "      <td>0.094852</td>\n",
              "      <td>0.101145</td>\n",
              "      <td>0.101145</td>\n",
              "      <td>0.101145</td>\n",
              "    </tr>\n",
              "  </tbody>\n",
              "</table>\n",
              "<p>10 rows × 31 columns</p>\n",
              "</div>\n",
              "      <button class=\"colab-df-convert\" onclick=\"convertToInteractive('df-81ca15bd-ce77-470e-ac46-b180213fbe34')\"\n",
              "              title=\"Convert this dataframe to an interactive table.\"\n",
              "              style=\"display:none;\">\n",
              "        \n",
              "  <svg xmlns=\"http://www.w3.org/2000/svg\" height=\"24px\"viewBox=\"0 0 24 24\"\n",
              "       width=\"24px\">\n",
              "    <path d=\"M0 0h24v24H0V0z\" fill=\"none\"/>\n",
              "    <path d=\"M18.56 5.44l.94 2.06.94-2.06 2.06-.94-2.06-.94-.94-2.06-.94 2.06-2.06.94zm-11 1L8.5 8.5l.94-2.06 2.06-.94-2.06-.94L8.5 2.5l-.94 2.06-2.06.94zm10 10l.94 2.06.94-2.06 2.06-.94-2.06-.94-.94-2.06-.94 2.06-2.06.94z\"/><path d=\"M17.41 7.96l-1.37-1.37c-.4-.4-.92-.59-1.43-.59-.52 0-1.04.2-1.43.59L10.3 9.45l-7.72 7.72c-.78.78-.78 2.05 0 2.83L4 21.41c.39.39.9.59 1.41.59.51 0 1.02-.2 1.41-.59l7.78-7.78 2.81-2.81c.8-.78.8-2.07 0-2.86zM5.41 20L4 18.59l7.72-7.72 1.47 1.35L5.41 20z\"/>\n",
              "  </svg>\n",
              "      </button>\n",
              "      \n",
              "  <style>\n",
              "    .colab-df-container {\n",
              "      display:flex;\n",
              "      flex-wrap:wrap;\n",
              "      gap: 12px;\n",
              "    }\n",
              "\n",
              "    .colab-df-convert {\n",
              "      background-color: #E8F0FE;\n",
              "      border: none;\n",
              "      border-radius: 50%;\n",
              "      cursor: pointer;\n",
              "      display: none;\n",
              "      fill: #1967D2;\n",
              "      height: 32px;\n",
              "      padding: 0 0 0 0;\n",
              "      width: 32px;\n",
              "    }\n",
              "\n",
              "    .colab-df-convert:hover {\n",
              "      background-color: #E2EBFA;\n",
              "      box-shadow: 0px 1px 2px rgba(60, 64, 67, 0.3), 0px 1px 3px 1px rgba(60, 64, 67, 0.15);\n",
              "      fill: #174EA6;\n",
              "    }\n",
              "\n",
              "    [theme=dark] .colab-df-convert {\n",
              "      background-color: #3B4455;\n",
              "      fill: #D2E3FC;\n",
              "    }\n",
              "\n",
              "    [theme=dark] .colab-df-convert:hover {\n",
              "      background-color: #434B5C;\n",
              "      box-shadow: 0px 1px 3px 1px rgba(0, 0, 0, 0.15);\n",
              "      filter: drop-shadow(0px 1px 2px rgba(0, 0, 0, 0.3));\n",
              "      fill: #FFFFFF;\n",
              "    }\n",
              "  </style>\n",
              "\n",
              "      <script>\n",
              "        const buttonEl =\n",
              "          document.querySelector('#df-81ca15bd-ce77-470e-ac46-b180213fbe34 button.colab-df-convert');\n",
              "        buttonEl.style.display =\n",
              "          google.colab.kernel.accessAllowed ? 'block' : 'none';\n",
              "\n",
              "        async function convertToInteractive(key) {\n",
              "          const element = document.querySelector('#df-81ca15bd-ce77-470e-ac46-b180213fbe34');\n",
              "          const dataTable =\n",
              "            await google.colab.kernel.invokeFunction('convertToInteractive',\n",
              "                                                     [key], {});\n",
              "          if (!dataTable) return;\n",
              "\n",
              "          const docLinkHtml = 'Like what you see? Visit the ' +\n",
              "            '<a target=\"_blank\" href=https://colab.research.google.com/notebooks/data_table.ipynb>data table notebook</a>'\n",
              "            + ' to learn more about interactive tables.';\n",
              "          element.innerHTML = '';\n",
              "          dataTable['output_type'] = 'display_data';\n",
              "          await google.colab.output.renderOutput(dataTable, element);\n",
              "          const docLink = document.createElement('div');\n",
              "          docLink.innerHTML = docLinkHtml;\n",
              "          element.appendChild(docLink);\n",
              "        }\n",
              "      </script>\n",
              "    </div>\n",
              "  </div>\n",
              "  "
            ]
          },
          "metadata": {},
          "execution_count": 4
        }
      ]
    },
    {
      "cell_type": "code",
      "source": [
        "cols_loss = [\"twilight-sweep-10 - total_valid_loss\", \"comic-sweep-9 - total_valid_loss\", \"helpful-sweep-8 - total_valid_loss\", \"sparkling-sweep-7 - total_valid_loss\", \\\n",
        "                    \"giddy-sweep-6 - total_valid_loss\", \"fast-sweep-5 - total_valid_loss\", \"copper-sweep-4 - total_valid_loss\", \"astral-sweep-3 - total_valid_loss\",\\\n",
        "                    \"fearless-sweep-2 - total_valid_loss\", \"dazzling-sweep-1 - total_valid_loss\"]\n",
        "\n",
        "cols_pearsonr = [\"twilight-sweep-10 - total_pearsonr\", \"comic-sweep-9 - total_pearsonr\", \"helpful-sweep-8 - total_pearsonr\", \"sparkling-sweep-7 - total_pearsonr\", \\\n",
        "                    \"giddy-sweep-6 - total_pearsonr\", \"fast-sweep-5 - total_pearsonr\", \"copper-sweep-4 - total_pearsonr\", \"astral-sweep-3 - total_pearsonr\",\\\n",
        "                    \"fearless-sweep-2 - total_pearsonr\", \"dazzling-sweep-1 - total_pearsonr\"]\n",
        "\n",
        "cols_f1 = [\"twilight-sweep-10 - total_f1_score\", \"comic-sweep-9 - total_f1_score\", \"helpful-sweep-8 - total_f1_score\", \"sparkling-sweep-7 - total_f1_score\", \\\n",
        "                    \"giddy-sweep-6 - total_f1_score\", \"fast-sweep-5 - total_f1_score\", \"copper-sweep-4 - total_f1_score\", \"astral-sweep-3 - total_f1_score\",\\\n",
        "                    \"fearless-sweep-2 - total_f1_score\", \"dazzling-sweep-1 - total_f1_score\"]"
      ],
      "metadata": {
        "id": "HVjfVpxbSZT4"
      },
      "execution_count": 5,
      "outputs": []
    },
    {
      "cell_type": "markdown",
      "source": [
        "\n",
        "- 사용할 열만 가져오기"
      ],
      "metadata": {
        "id": "4vRedYxTSi6w"
      }
    },
    {
      "cell_type": "code",
      "source": [
        "val_loss = val_loss[cols_loss]\n",
        "val_pearsonr = val_pearsonr[cols_pearsonr]\n",
        "val_f1 = val_f1[cols_f1]"
      ],
      "metadata": {
        "id": "9FJ06217Sl6w"
      },
      "execution_count": 6,
      "outputs": []
    },
    {
      "cell_type": "markdown",
      "source": [
        "## B. 결과 확인을 위해 검증 - 테스트 데이터 DF 합치기\n",
        "\n"
      ],
      "metadata": {
        "id": "IgXVCDZZcBsO"
      }
    },
    {
      "cell_type": "markdown",
      "source": [
        "- Sweep 별로 값 분리하기"
      ],
      "metadata": {
        "id": "o0Jf0XvLS5WA"
      }
    },
    {
      "cell_type": "code",
      "source": [
        "test_1 = test.loc[test.name.str.contains(\"dazzling\")].sort_values(by = \"name\").reset_index().drop(['index'], axis = 1)\n",
        "test_2 = test.loc[test.name.str.contains(\"fearless\")].sort_values(by = \"name\").reset_index().drop(['index'], axis = 1)\n",
        "test_3 = test.loc[test.name.str.contains(\"astral\")].sort_values(by = \"name\").reset_index().drop(['index'], axis = 1)\n",
        "test_4 = test.loc[test.name.str.contains(\"copper\")].sort_values(by = \"name\").reset_index().drop(['index'], axis = 1)\n",
        "test_5 = test.loc[test.name.str.contains(\"fast\")].sort_values(by = \"name\").reset_index().drop(['index'], axis = 1)\n",
        "test_6 = test.loc[test.name.str.contains(\"giddy\")].sort_values(by = \"name\").reset_index().drop(['index'], axis = 1)\n",
        "test_7 = test.loc[test.name.str.contains(\"sparkling\")].sort_values(by = \"name\").reset_index().drop(['index'], axis = 1)\n",
        "test_8 = test.loc[test.name.str.contains(\"helpful\")].sort_values(by = \"name\").reset_index().drop(['index'], axis = 1)\n",
        "test_9 = test.loc[test.name.str.contains(\"comic\")].sort_values(by = \"name\").reset_index().drop(['index'], axis = 1)\n",
        "test_10 = test.loc[test.name.str.contains(\"twilight\")].sort_values(by = \"name\").reset_index().drop(['index'], axis = 1)"
      ],
      "metadata": {
        "id": "Xzp02QZ-b_Id"
      },
      "execution_count": 7,
      "outputs": []
    },
    {
      "cell_type": "markdown",
      "source": [
        "- 분리 후 하나의 df로 concat"
      ],
      "metadata": {
        "id": "VqzbG746TBEH"
      }
    },
    {
      "cell_type": "code",
      "source": [
        "test_1['val_loss'] = val_loss['dazzling-sweep-1 - total_valid_loss']\n",
        "test_1['val_f1_score'] = val_f1['dazzling-sweep-1 - total_f1_score']\n",
        "test_1['val_pearsonr'] = val_pearsonr[\"dazzling-sweep-1 - total_pearsonr\"]\n",
        "test_1['epoch'] = test_1.index + 1\n",
        "\n",
        "test_2['val_loss'] = val_loss['fearless-sweep-2 - total_valid_loss']\n",
        "test_2['val_f1_score'] = val_f1['fearless-sweep-2 - total_f1_score']\n",
        "test_2['val_pearsonr'] = val_pearsonr[\"fearless-sweep-2 - total_pearsonr\"]\n",
        "test_2['epoch'] = test_2.index + 1\n",
        "\n",
        "test_3['val_loss'] = val_loss['astral-sweep-3 - total_valid_loss']\n",
        "test_3['val_f1_score'] = val_f1['astral-sweep-3 - total_f1_score']\n",
        "test_3['val_pearsonr'] = val_pearsonr[\"astral-sweep-3 - total_pearsonr\"]\n",
        "test_3['epoch'] = test_3.index + 1\n",
        "\n",
        "test_4['val_loss'] = val_loss['copper-sweep-4 - total_valid_loss']\n",
        "test_4['val_f1_score'] = val_f1['copper-sweep-4 - total_f1_score']\n",
        "test_4['val_pearsonr'] = val_pearsonr[\"copper-sweep-4 - total_pearsonr\"]\n",
        "test_4['epoch'] = test_4.index + 1\n",
        "\n",
        "test_5['val_loss'] = val_loss['fast-sweep-5 - total_valid_loss']\n",
        "test_5['val_f1_score'] = val_f1['fast-sweep-5 - total_f1_score']\n",
        "test_5['val_pearsonr'] = val_pearsonr[\"fast-sweep-5 - total_pearsonr\"]\n",
        "test_5['epoch'] = test_5.index + 1\n",
        "\n",
        "test_6['val_loss'] = val_loss['giddy-sweep-6 - total_valid_loss']\n",
        "test_6['val_f1_score'] = val_f1['giddy-sweep-6 - total_f1_score']\n",
        "test_6['val_pearsonr'] = val_pearsonr[\"giddy-sweep-6 - total_pearsonr\"]\n",
        "test_6['epoch'] = test_6.index + 1\n",
        "\n",
        "test_7['val_loss'] = val_loss['sparkling-sweep-7 - total_valid_loss']\n",
        "test_7['val_f1_score'] = val_f1['sparkling-sweep-7 - total_f1_score']\n",
        "test_7['val_pearsonr'] = val_pearsonr[\"sparkling-sweep-7 - total_pearsonr\"]\n",
        "test_7['epoch'] = test_7.index + 1\n",
        "\n",
        "test_8['val_loss'] = val_loss['helpful-sweep-8 - total_valid_loss']\n",
        "test_8['val_f1_score'] = val_f1['helpful-sweep-8 - total_f1_score']\n",
        "test_8['val_pearsonr'] = val_pearsonr[\"helpful-sweep-8 - total_pearsonr\"]\n",
        "test_8['epoch'] = test_8.index + 1\n",
        "\n",
        "test_9['val_loss'] = val_loss['comic-sweep-9 - total_valid_loss']\n",
        "test_9['val_f1_score'] = val_f1['comic-sweep-9 - total_f1_score']\n",
        "test_9['val_pearsonr'] = val_pearsonr[\"comic-sweep-9 - total_pearsonr\"]\n",
        "test_9['epoch'] = test_9.index + 1\n",
        "\n",
        "test_10['val_loss'] = val_loss['twilight-sweep-10 - total_valid_loss']\n",
        "test_10['val_f1_score'] = val_f1['twilight-sweep-10 - total_f1_score']\n",
        "test_10['val_pearsonr'] = val_pearsonr[\"twilight-sweep-10 - total_pearsonr\"]\n",
        "test_10['epoch'] = test_10.index + 1"
      ],
      "metadata": {
        "id": "z4XTXAwyTAaF"
      },
      "execution_count": 8,
      "outputs": []
    },
    {
      "cell_type": "code",
      "source": [
        "model_outputs = pd.concat([test_1, test_2, test_3, test_4, test_5, test_6, test_7, test_8, test_9, test_10]).reset_index().drop(['index'], axis = 1)\n",
        "model_outputs"
      ],
      "metadata": {
        "colab": {
          "base_uri": "https://localhost:8080/",
          "height": 424
        },
        "id": "iPyIL2TrK7Lo",
        "outputId": "09b7a451-698b-465e-a30a-e229004d3c35"
      },
      "execution_count": 13,
      "outputs": [
        {
          "output_type": "execute_result",
          "data": {
            "text/plain": [
              "                   name  test_loss  test_f1_score  test_pearsonr  val_loss  \\\n",
              "0    dazzling-sweep-1-0   0.613138      82.666667      89.462811  0.197982   \n",
              "1    dazzling-sweep-1-1   0.605983      81.647940      89.904005  0.199767   \n",
              "2    dazzling-sweep-1-2   0.359388      84.848485      91.879176  0.122156   \n",
              "3    dazzling-sweep-1-3   0.392920      85.657371      92.395255  0.116131   \n",
              "4    dazzling-sweep-1-4   0.403971      84.980237      92.537654  0.128595   \n",
              "..                  ...        ...            ...            ...       ...   \n",
              "95  twilight-sweep-10-5   0.348137      84.552846      92.695814  0.095339   \n",
              "96  twilight-sweep-10-6   0.357702      84.444444      92.609267  0.104939   \n",
              "97  twilight-sweep-10-7   0.322710      84.848485      92.985890  0.095172   \n",
              "98  twilight-sweep-10-8   0.319049      85.132383      92.958405  0.094891   \n",
              "99  twilight-sweep-10-9   0.329526      84.959350      92.968122  0.096358   \n",
              "\n",
              "    val_f1_score  val_pearsonr  epoch  \n",
              "0      88.833124     96.467023      1  \n",
              "1      87.431694     96.726227      2  \n",
              "2      92.938803     97.367814      3  \n",
              "3      92.277487     97.680770      4  \n",
              "4      91.856678     97.597465      5  \n",
              "..           ...           ...    ...  \n",
              "95     93.758480     97.928750      6  \n",
              "96     93.640054     97.832545      7  \n",
              "97     94.053315     97.895722      8  \n",
              "98     94.004135     97.932744      9  \n",
              "99     94.125683     97.897392     10  \n",
              "\n",
              "[100 rows x 8 columns]"
            ],
            "text/html": [
              "\n",
              "  <div id=\"df-195e49bb-9377-4731-b627-6a6b862f335e\">\n",
              "    <div class=\"colab-df-container\">\n",
              "      <div>\n",
              "<style scoped>\n",
              "    .dataframe tbody tr th:only-of-type {\n",
              "        vertical-align: middle;\n",
              "    }\n",
              "\n",
              "    .dataframe tbody tr th {\n",
              "        vertical-align: top;\n",
              "    }\n",
              "\n",
              "    .dataframe thead th {\n",
              "        text-align: right;\n",
              "    }\n",
              "</style>\n",
              "<table border=\"1\" class=\"dataframe\">\n",
              "  <thead>\n",
              "    <tr style=\"text-align: right;\">\n",
              "      <th></th>\n",
              "      <th>name</th>\n",
              "      <th>test_loss</th>\n",
              "      <th>test_f1_score</th>\n",
              "      <th>test_pearsonr</th>\n",
              "      <th>val_loss</th>\n",
              "      <th>val_f1_score</th>\n",
              "      <th>val_pearsonr</th>\n",
              "      <th>epoch</th>\n",
              "    </tr>\n",
              "  </thead>\n",
              "  <tbody>\n",
              "    <tr>\n",
              "      <th>0</th>\n",
              "      <td>dazzling-sweep-1-0</td>\n",
              "      <td>0.613138</td>\n",
              "      <td>82.666667</td>\n",
              "      <td>89.462811</td>\n",
              "      <td>0.197982</td>\n",
              "      <td>88.833124</td>\n",
              "      <td>96.467023</td>\n",
              "      <td>1</td>\n",
              "    </tr>\n",
              "    <tr>\n",
              "      <th>1</th>\n",
              "      <td>dazzling-sweep-1-1</td>\n",
              "      <td>0.605983</td>\n",
              "      <td>81.647940</td>\n",
              "      <td>89.904005</td>\n",
              "      <td>0.199767</td>\n",
              "      <td>87.431694</td>\n",
              "      <td>96.726227</td>\n",
              "      <td>2</td>\n",
              "    </tr>\n",
              "    <tr>\n",
              "      <th>2</th>\n",
              "      <td>dazzling-sweep-1-2</td>\n",
              "      <td>0.359388</td>\n",
              "      <td>84.848485</td>\n",
              "      <td>91.879176</td>\n",
              "      <td>0.122156</td>\n",
              "      <td>92.938803</td>\n",
              "      <td>97.367814</td>\n",
              "      <td>3</td>\n",
              "    </tr>\n",
              "    <tr>\n",
              "      <th>3</th>\n",
              "      <td>dazzling-sweep-1-3</td>\n",
              "      <td>0.392920</td>\n",
              "      <td>85.657371</td>\n",
              "      <td>92.395255</td>\n",
              "      <td>0.116131</td>\n",
              "      <td>92.277487</td>\n",
              "      <td>97.680770</td>\n",
              "      <td>4</td>\n",
              "    </tr>\n",
              "    <tr>\n",
              "      <th>4</th>\n",
              "      <td>dazzling-sweep-1-4</td>\n",
              "      <td>0.403971</td>\n",
              "      <td>84.980237</td>\n",
              "      <td>92.537654</td>\n",
              "      <td>0.128595</td>\n",
              "      <td>91.856678</td>\n",
              "      <td>97.597465</td>\n",
              "      <td>5</td>\n",
              "    </tr>\n",
              "    <tr>\n",
              "      <th>...</th>\n",
              "      <td>...</td>\n",
              "      <td>...</td>\n",
              "      <td>...</td>\n",
              "      <td>...</td>\n",
              "      <td>...</td>\n",
              "      <td>...</td>\n",
              "      <td>...</td>\n",
              "      <td>...</td>\n",
              "    </tr>\n",
              "    <tr>\n",
              "      <th>95</th>\n",
              "      <td>twilight-sweep-10-5</td>\n",
              "      <td>0.348137</td>\n",
              "      <td>84.552846</td>\n",
              "      <td>92.695814</td>\n",
              "      <td>0.095339</td>\n",
              "      <td>93.758480</td>\n",
              "      <td>97.928750</td>\n",
              "      <td>6</td>\n",
              "    </tr>\n",
              "    <tr>\n",
              "      <th>96</th>\n",
              "      <td>twilight-sweep-10-6</td>\n",
              "      <td>0.357702</td>\n",
              "      <td>84.444444</td>\n",
              "      <td>92.609267</td>\n",
              "      <td>0.104939</td>\n",
              "      <td>93.640054</td>\n",
              "      <td>97.832545</td>\n",
              "      <td>7</td>\n",
              "    </tr>\n",
              "    <tr>\n",
              "      <th>97</th>\n",
              "      <td>twilight-sweep-10-7</td>\n",
              "      <td>0.322710</td>\n",
              "      <td>84.848485</td>\n",
              "      <td>92.985890</td>\n",
              "      <td>0.095172</td>\n",
              "      <td>94.053315</td>\n",
              "      <td>97.895722</td>\n",
              "      <td>8</td>\n",
              "    </tr>\n",
              "    <tr>\n",
              "      <th>98</th>\n",
              "      <td>twilight-sweep-10-8</td>\n",
              "      <td>0.319049</td>\n",
              "      <td>85.132383</td>\n",
              "      <td>92.958405</td>\n",
              "      <td>0.094891</td>\n",
              "      <td>94.004135</td>\n",
              "      <td>97.932744</td>\n",
              "      <td>9</td>\n",
              "    </tr>\n",
              "    <tr>\n",
              "      <th>99</th>\n",
              "      <td>twilight-sweep-10-9</td>\n",
              "      <td>0.329526</td>\n",
              "      <td>84.959350</td>\n",
              "      <td>92.968122</td>\n",
              "      <td>0.096358</td>\n",
              "      <td>94.125683</td>\n",
              "      <td>97.897392</td>\n",
              "      <td>10</td>\n",
              "    </tr>\n",
              "  </tbody>\n",
              "</table>\n",
              "<p>100 rows × 8 columns</p>\n",
              "</div>\n",
              "      <button class=\"colab-df-convert\" onclick=\"convertToInteractive('df-195e49bb-9377-4731-b627-6a6b862f335e')\"\n",
              "              title=\"Convert this dataframe to an interactive table.\"\n",
              "              style=\"display:none;\">\n",
              "        \n",
              "  <svg xmlns=\"http://www.w3.org/2000/svg\" height=\"24px\"viewBox=\"0 0 24 24\"\n",
              "       width=\"24px\">\n",
              "    <path d=\"M0 0h24v24H0V0z\" fill=\"none\"/>\n",
              "    <path d=\"M18.56 5.44l.94 2.06.94-2.06 2.06-.94-2.06-.94-.94-2.06-.94 2.06-2.06.94zm-11 1L8.5 8.5l.94-2.06 2.06-.94-2.06-.94L8.5 2.5l-.94 2.06-2.06.94zm10 10l.94 2.06.94-2.06 2.06-.94-2.06-.94-.94-2.06-.94 2.06-2.06.94z\"/><path d=\"M17.41 7.96l-1.37-1.37c-.4-.4-.92-.59-1.43-.59-.52 0-1.04.2-1.43.59L10.3 9.45l-7.72 7.72c-.78.78-.78 2.05 0 2.83L4 21.41c.39.39.9.59 1.41.59.51 0 1.02-.2 1.41-.59l7.78-7.78 2.81-2.81c.8-.78.8-2.07 0-2.86zM5.41 20L4 18.59l7.72-7.72 1.47 1.35L5.41 20z\"/>\n",
              "  </svg>\n",
              "      </button>\n",
              "      \n",
              "  <style>\n",
              "    .colab-df-container {\n",
              "      display:flex;\n",
              "      flex-wrap:wrap;\n",
              "      gap: 12px;\n",
              "    }\n",
              "\n",
              "    .colab-df-convert {\n",
              "      background-color: #E8F0FE;\n",
              "      border: none;\n",
              "      border-radius: 50%;\n",
              "      cursor: pointer;\n",
              "      display: none;\n",
              "      fill: #1967D2;\n",
              "      height: 32px;\n",
              "      padding: 0 0 0 0;\n",
              "      width: 32px;\n",
              "    }\n",
              "\n",
              "    .colab-df-convert:hover {\n",
              "      background-color: #E2EBFA;\n",
              "      box-shadow: 0px 1px 2px rgba(60, 64, 67, 0.3), 0px 1px 3px 1px rgba(60, 64, 67, 0.15);\n",
              "      fill: #174EA6;\n",
              "    }\n",
              "\n",
              "    [theme=dark] .colab-df-convert {\n",
              "      background-color: #3B4455;\n",
              "      fill: #D2E3FC;\n",
              "    }\n",
              "\n",
              "    [theme=dark] .colab-df-convert:hover {\n",
              "      background-color: #434B5C;\n",
              "      box-shadow: 0px 1px 3px 1px rgba(0, 0, 0, 0.15);\n",
              "      filter: drop-shadow(0px 1px 2px rgba(0, 0, 0, 0.3));\n",
              "      fill: #FFFFFF;\n",
              "    }\n",
              "  </style>\n",
              "\n",
              "      <script>\n",
              "        const buttonEl =\n",
              "          document.querySelector('#df-195e49bb-9377-4731-b627-6a6b862f335e button.colab-df-convert');\n",
              "        buttonEl.style.display =\n",
              "          google.colab.kernel.accessAllowed ? 'block' : 'none';\n",
              "\n",
              "        async function convertToInteractive(key) {\n",
              "          const element = document.querySelector('#df-195e49bb-9377-4731-b627-6a6b862f335e');\n",
              "          const dataTable =\n",
              "            await google.colab.kernel.invokeFunction('convertToInteractive',\n",
              "                                                     [key], {});\n",
              "          if (!dataTable) return;\n",
              "\n",
              "          const docLinkHtml = 'Like what you see? Visit the ' +\n",
              "            '<a target=\"_blank\" href=https://colab.research.google.com/notebooks/data_table.ipynb>data table notebook</a>'\n",
              "            + ' to learn more about interactive tables.';\n",
              "          element.innerHTML = '';\n",
              "          dataTable['output_type'] = 'display_data';\n",
              "          await google.colab.output.renderOutput(dataTable, element);\n",
              "          const docLink = document.createElement('div');\n",
              "          docLink.innerHTML = docLinkHtml;\n",
              "          element.appendChild(docLink);\n",
              "        }\n",
              "      </script>\n",
              "    </div>\n",
              "  </div>\n",
              "  "
            ]
          },
          "metadata": {},
          "execution_count": 13
        }
      ]
    },
    {
      "cell_type": "markdown",
      "source": [
        "## C. 결과 확인"
      ],
      "metadata": {
        "id": "IH2kGVpWcTHZ"
      }
    },
    {
      "cell_type": "markdown",
      "source": [
        "### 1) Epoch 별 모델의 `검증`, `테스트` Loss 확인\n",
        "- Loss 변화 양상이 다를 뿐 아니라, 수치 상에서도 큰 차이가 있음\n",
        "- `검증`, `테스트`의 `Loss` 분포가 다름을 확인 가능"
      ],
      "metadata": {
        "id": "WknBTKCSgywt"
      }
    },
    {
      "cell_type": "code",
      "source": [
        "fig, axs = plt.subplots(5, 2, figsize = (20, 14))\n",
        "\n",
        "for i in range(10):\n",
        "  model_output = model_outputs.iloc[i*10:(i+1)*10].reset_index()\n",
        "  ax = axs[i // 2][i % 2]\n",
        "  sns.lineplot(data = model_output, x = \"epoch\", y = \"test_loss\", ax = ax, label = \"test_loss\")\n",
        "  sns.lineplot(data = model_output, x = \"epoch\", y = \"val_loss\", ax = ax, label = \"val_loss\")\n",
        "  ax.set_title(model_output.name[0])\n",
        "  ax.legend()\n",
        "\n",
        "plt.tight_layout()"
      ],
      "metadata": {
        "colab": {
          "base_uri": "https://localhost:8080/",
          "height": 1000
        },
        "id": "JCYqz3Xkp0Uk",
        "outputId": "200ddad7-ed1b-4a0d-ad43-4749c5273241"
      },
      "execution_count": 19,
      "outputs": [
        {
          "output_type": "display_data",
          "data": {
            "text/plain": [
              "<Figure size 1440x1008 with 10 Axes>"
            ],
            "image/png": "[encoded data removed]"
          },
          "metadata": {
            "needs_background": "light"
          }
        }
      ]
    },
    {
      "cell_type": "markdown",
      "source": [
        "### 2) `검증`, `테스트` Loss 기준 최고, 최저 성능 모델 양상 확인"
      ],
      "metadata": {
        "id": "KEbLAo5KiD8R"
      }
    },
    {
      "cell_type": "markdown",
      "source": [
        "- `검증` 모델의 경우 비교적 높은 `Epoch`에서 최대 성능 달성\n",
        "- `훈련` 데이터를 통해 생성된 만큼, 어느 정도는 `훈련` 데이터에 과적합 돼있음\n"
      ],
      "metadata": {
        "id": "72qmXEOcl0nS"
      }
    },
    {
      "cell_type": "code",
      "source": [
        "print(f\"테스트 데이터 기준 상위 모델의 Epoch 평균 : {np.mean(model_outputs.sort_values(by = 'test_loss').head(10).epoch)}\")\n",
        "print(f\"검증 데이터 기준 상위 모델의 Epoch 평균 : {np.mean(model_outputs.sort_values(by = 'val_loss').head(10).epoch)}\")"
      ],
      "metadata": {
        "colab": {
          "base_uri": "https://localhost:8080/"
        },
        "id": "CTEdCC28l6zR",
        "outputId": "f59ad27d-9b30-48a8-b4e1-604b480972e2"
      },
      "execution_count": 49,
      "outputs": [
        {
          "output_type": "stream",
          "name": "stdout",
          "text": [
            "테스트 데이터 기준 상위 모델의 Epoch 평균 : 6.9\n",
            "검증 데이터 기준 상위 모델의 Epoch 평균 : 9.1\n"
          ]
        }
      ]
    }
  ]
}