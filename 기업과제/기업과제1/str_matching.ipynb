{
 "cells": [
  {
   "cell_type": "markdown",
   "metadata": {},
   "source": [
    "#### 문자열 매칭 알고리즘 구현\n",
    "\n",
    "문자열 집합 S가 존재한다 ex) S = {\"www\",\"xman\",\"yman\"}. 임의의 문자열이 N개 주어졌\n",
    "을때 각 임의의 문자열 내에 집합 S에 속하는 문자열이 존재하는지 판별하시오.\n",
    "\n",
    "아래의 문제를 순서대로 작성하세요. 1번만 푸셔도 됩니다.\n",
    "1. 문자열의 여러 부분 문자열 중 하나라도 집합 S에 있으면 'YES'를 출력하고, 아무것도\n",
    "없으면 'NO'를 출력한다.\n",
    "2. 주어진 문자열의 여러부분 문자열 중 처음 매칭된 패턴과 문자열 시작 포지션을 출력한\n",
    "다.\n",
    "3. 주어진 문자열의 여러부분 문자열 중 매칭 가능한 모든 패턴과 문자열 시작 포지션을 출\n",
    "력한다.\n",
    "\n",
    "입력\n",
    "첫째 줄에 집합 S의 크기 N이 주어진다. (1 ≤ N ≤ 1000)\n",
    "다음 N개 줄에 집합 S의 원소들이 주어진다. 이 문자열의 길이는 100을 넘지 않는다.\n",
    "다음 줄에 답을 판별해야 하는 문자열의 개수 Q가 주어진다. (1 ≤ Q ≤ 1000)\n",
    "다음 Q개 줄에 답을 판별해야 하는 문자열이 주어진다. 이 문자열의 길이는 10000을 넘지\n",
    "않는다.\n",
    "입력으로 주어지는 모든 문자열은 알파벳 소문자로만 이루어져 있다.\n",
    "\n",
    "출력\n",
    "Q개 줄에 각 문자열에 대한 답을 출력한다.\n",
    "\n",
    "예제\n",
    "```\n",
    "9(문자열 집합S의 원소 개수)\n",
    "\"aaa\",\"\"aaaabb\", \"aabbcc\", \"abb\", \"bcc\", \"bbcc\", \"aabbccdd\", \"aaabb”, “cccd”\n",
    "(comma, new line 구분은 자유)\n",
    "1(매칭 대상 문자열 수)\n",
    "\"aaaabbaabbccdd\"\n",
    "```\n",
    "예제 출력\n",
    "\n",
    "출력형식은 무관합니다.\n",
    "1. 문자열 집합 중 “cccd”만 주어진 문자열의 부분 문자열에 속하지 않으므로 YES, YES,\n",
    "YES, YES, YES, YES, YES, YES, NO 이다.\n",
    "2. 아래와같이 첫번째로 매칭된 패턴의 시작포지션과 문자열 패턴을 출력한다.   \n",
    "#pos = 0, pattern = aaa   \n",
    "#pos = 0, pattern = aaaabb   \n",
    "#pos = 6, pattern = aabbcc    \n",
    "#pos = 7, pattern = abb    \n",
    "#pos = 9, pattern = bcc    \n",
    "#pos = 8, pattern = bbcc   \n",
    "#pos = 6, pattern = aabbccdd   \n",
    "#pos = 1, pattern = aaabb   \n",
    "3. 아래와같이 가능한 모든 문자열 패턴의 시작 포지션과 문자열 패턴을 출력한다.   \n",
    "#pos = 0, pattern = aaa   \n",
    "#pos = 1, pattern = aaa   \n",
    "#pos = 1, pattern = aaabb   \n",
    "#pos = 3, pattern = abb   \n",
    "#pos = 0, pattern = aaaabb   \n",
    "#pos = 7, pattern = abb   \n",
    "#pos = 8, pattern = bbcc   \n",
    "#pos = 9, pattern = bcc   \n",
    "#pos = 6, pattern = aabbcc   \n",
    "#pos = 6, pattern = aabbccdd   "
   ]
  },
  {
   "cell_type": "markdown",
   "metadata": {},
   "source": [
    "___"
   ]
  },
  {
   "cell_type": "markdown",
   "metadata": {},
   "source": [
    "#### 1번 결과"
   ]
  },
  {
   "cell_type": "code",
   "execution_count": 3,
   "metadata": {},
   "outputs": [
    {
     "name": "stdout",
     "output_type": "stream",
     "text": [
      "aaa : \"YES\"\n",
      "aaaabb : \"YES\"\n",
      "aabbcc : \"YES\"\n",
      "abb : \"YES\"\n",
      "bcc : \"YES\"\n",
      "bbcc : \"YES\"\n",
      "aabbccdd : \"YES\"\n",
      "aaabb : \"YES\"\n",
      "cccd : \"NO\"\n"
     ]
    }
   ],
   "source": [
    "N = int(input())\n",
    "str_set = []\n",
    "\n",
    "for i in range(N):\n",
    "    element = input()\n",
    "    str_set.append(element)\n",
    "\n",
    "Q = int(input())\n",
    "q_list = []\n",
    "\n",
    "for j in range(Q):\n",
    "    q = input()\n",
    "    q_list.append(q)\n",
    "\n",
    "for s in str_set:\n",
    "    for q in q_list:\n",
    "        if q.find(s) >= 0:\n",
    "            print(f'{s} : \"YES\"')\n",
    "            break\n",
    "    \n",
    "    else:\n",
    "        print(f'{s} : \"NO\"')\n",
    "    \n",
    "\n",
    "    "
   ]
  },
  {
   "cell_type": "markdown",
   "metadata": {},
   "source": [
    "___"
   ]
  },
  {
   "cell_type": "markdown",
   "metadata": {},
   "source": [
    "#### 2번 결과"
   ]
  },
  {
   "cell_type": "code",
   "execution_count": 8,
   "metadata": {},
   "outputs": [
    {
     "name": "stdout",
     "output_type": "stream",
     "text": [
      "POS = 0, pattern = aaa\n",
      "POS = 0, pattern = aaaabb\n",
      "POS = 6, pattern = aabbcc\n",
      "POS = 3, pattern = abb\n",
      "POS = 9, pattern = bcc\n",
      "POS = 8, pattern = bbcc\n",
      "POS = 6, pattern = aabbccdd\n",
      "POS = 1, pattern = aaabb\n"
     ]
    }
   ],
   "source": [
    "N = int(input())\n",
    "str_set = []\n",
    "\n",
    "for i in range(N):\n",
    "    element = input()\n",
    "    str_set.append(element)\n",
    "\n",
    "Q = int(input())\n",
    "q_list = []\n",
    "\n",
    "for j in range(Q):\n",
    "    q = input()\n",
    "    q_list.append(q)\n",
    "\n",
    "for s in str_set:\n",
    "    for q in q_list:\n",
    "        if q.find(s) >= 0:\n",
    "            print(f'POS = {q.index(s)}, pattern = {s}')\n",
    "            break"
   ]
  },
  {
   "cell_type": "markdown",
   "metadata": {},
   "source": [
    "___"
   ]
  },
  {
   "cell_type": "markdown",
   "metadata": {},
   "source": [
    "#### 3번 결과"
   ]
  },
  {
   "cell_type": "code",
   "execution_count": 3,
   "metadata": {},
   "outputs": [
    {
     "name": "stdout",
     "output_type": "stream",
     "text": [
      "POS = 0, pattern = aaa\n",
      "POS = 1, pattern = aaa\n",
      "POS = 0, pattern = aaaabb\n",
      "POS = 6, pattern = aabbcc\n",
      "POS = 3, pattern = abb\n",
      "POS = 7, pattern = abb\n",
      "POS = 9, pattern = bcc\n",
      "POS = 8, pattern = bbcc\n",
      "POS = 6, pattern = aabbccdd\n",
      "POS = 1, pattern = aaabb\n"
     ]
    }
   ],
   "source": [
    "import re\n",
    "\n",
    "N = int(input())\n",
    "str_set = []\n",
    "\n",
    "for i in range(N):\n",
    "    element = input()\n",
    "    str_set.append(element)\n",
    "\n",
    "Q = int(input())\n",
    "q_list = []\n",
    "\n",
    "for j in range(Q):\n",
    "    q = input()\n",
    "    q_list.append(q)\n",
    "\n",
    "for s in str_set:\n",
    "    for q in q_list:\n",
    "        idx = q.find(s)\n",
    "        if idx < 0:\n",
    "            break\n",
    "        print(f'POS = {idx}, pattern = {s}')\n",
    "        while q[idx+1:].find(s) != -1:\n",
    "            idx += (q[idx+1:].find(s) + 1)\n",
    "            print(f'POS = {idx}, pattern = {s}') "
   ]
  }
 ],
 "metadata": {
  "interpreter": {
   "hash": "8b78ed4ea6a57fe792344e280de9328384818c6afc3ba22764817c6c2d533bb3"
  },
  "kernelspec": {
   "display_name": "Python 3.8.8 ('base')",
   "language": "python",
   "name": "python3"
  },
  "language_info": {
   "codemirror_mode": {
    "name": "ipython",
    "version": 3
   },
   "file_extension": ".py",
   "mimetype": "text/x-python",
   "name": "python",
   "nbconvert_exporter": "python",
   "pygments_lexer": "ipython3",
   "version": "3.8.8"
  },
  "orig_nbformat": 4
 },
 "nbformat": 4,
 "nbformat_minor": 2
}
